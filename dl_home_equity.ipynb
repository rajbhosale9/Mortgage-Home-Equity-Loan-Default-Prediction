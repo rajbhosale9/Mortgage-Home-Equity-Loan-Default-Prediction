{
  "nbformat": 4,
  "nbformat_minor": 0,
  "metadata": {
    "colab": {
      "name": "dl_home_equity.ipynb",
      "provenance": [],
      "collapsed_sections": [
        "hh0lvABzXOiM"
      ],
      "toc_visible": true
    },
    "kernelspec": {
      "name": "python3",
      "display_name": "Python 3"
    },
    "language_info": {
      "name": "python"
    }
  },
  "cells": [
    {
      "cell_type": "markdown",
      "source": [
        "# Importing Libraries"
      ],
      "metadata": {
        "id": "wyABCaf-X726"
      }
    },
    {
      "cell_type": "code",
      "source": [
        "import pandas as pd\n",
        "import numpy as np\n",
        "import matplotlib.pyplot as plt\n",
        "import tensorflow\n",
        "from tensorflow.keras import layers\n",
        "from tensorflow.keras.utils import plot_model\n",
        "import keras\n",
        "from keras import metrics\n",
        "from keras.callbacks import EarlyStopping, ModelCheckpoint\n",
        "from keras.utils.np_utils import to_categorical\n",
        "from keras.layers import Conv1D, GlobalMaxPooling1D, Dropout, Dense, GRU, LSTM, Bidirectional\n",
        "from keras.models import Sequential, load_model\n",
        "from tensorflow.keras.optimizers import Adam\n",
        "from sklearn.metrics import classification_report\n",
        "from sklearn.model_selection import train_test_split\n",
        "from scipy.spatial.distance import cdist\n",
        "import seaborn as sns\n",
        "from sklearn.preprocessing import MinMaxScaler\n",
        "from sklearn.preprocessing import OneHotEncoder"
      ],
      "metadata": {
        "id": "0NRXkbEtYIm0"
      },
      "execution_count": null,
      "outputs": []
    },
    {
      "cell_type": "markdown",
      "source": [
        "#Read File"
      ],
      "metadata": {
        "id": "DkNwF-pLaLiw"
      }
    },
    {
      "cell_type": "code",
      "source": [
        "from google.colab import files\n",
        "\n",
        "uploaded = files.upload()\n",
        "\n",
        "for fn in uploaded.keys():\n",
        "  print('User uploaded file \"{name}\" with length {length} bytes'.format(\n",
        "      name=fn, length=len(uploaded[fn])))"
      ],
      "metadata": {
        "colab": {
          "resources": {
            "http://localhost:8080/nbextensions/google.colab/files.js": {
              "data": "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",
              "ok": true,
              "headers": [
                [
                  "content-type",
                  "application/javascript"
                ]
              ],
              "status": 200,
              "status_text": ""
            }
          },
          "base_uri": "https://localhost:8080/",
          "height": 92
        },
        "id": "K32FBJbutva6",
        "outputId": "885690c8-e8b2-4389-df48-9ab9c314ce3f"
      },
      "execution_count": null,
      "outputs": [
        {
          "output_type": "display_data",
          "data": {
            "text/plain": [
              "<IPython.core.display.HTML object>"
            ],
            "text/html": [
              "\n",
              "     <input type=\"file\" id=\"files-5ef85fca-f3c4-4c35-9f37-bddceea5b072\" name=\"files[]\" multiple disabled\n",
              "        style=\"border:none\" />\n",
              "     <output id=\"result-5ef85fca-f3c4-4c35-9f37-bddceea5b072\">\n",
              "      Upload widget is only available when the cell has been executed in the\n",
              "      current browser session. Please rerun this cell to enable.\n",
              "      </output>\n",
              "      <script src=\"/nbextensions/google.colab/files.js\"></script> "
            ]
          },
          "metadata": {}
        },
        {
          "output_type": "stream",
          "name": "stdout",
          "text": [
            "Saving home_equity.csv to home_equity (1).csv\n",
            "User uploaded file \"home_equity.csv\" with length 422270 bytes\n"
          ]
        }
      ]
    },
    {
      "cell_type": "code",
      "source": [
        "df_he = pd.read_csv('home_equity.csv')"
      ],
      "metadata": {
        "id": "m4A5TGXouUzs"
      },
      "execution_count": null,
      "outputs": []
    },
    {
      "cell_type": "code",
      "source": [
        "df_he.head()"
      ],
      "metadata": {
        "colab": {
          "base_uri": "https://localhost:8080/",
          "height": 270
        },
        "id": "GMbykdykt6_O",
        "outputId": "5a128339-7c26-4345-a884-475792923ecf"
      },
      "execution_count": null,
      "outputs": [
        {
          "output_type": "execute_result",
          "data": {
            "text/plain": [
              "   HEID  Loan_Amount  Mort_Bal  Home_Val Reason_HE Occupation   YOJ  \\\n",
              "0     1         1100   25860.0   39025.0   HomeImp      Other  10.5   \n",
              "1     2         1300   70053.0   68400.0   HomeImp      Other   7.0   \n",
              "2     3         1500   13500.0   16700.0   HomeImp      Other   4.0   \n",
              "3     4         1500       NaN       NaN       NaN        NaN   NaN   \n",
              "4     5         1700   97800.0  112000.0   HomeImp     Office   3.0   \n",
              "\n",
              "   Num_Derog  Num_Delinq      CL_Age  Num_Inq  Num_CL  Debt_Inc  Default  \n",
              "0        0.0         0.0   94.366667      1.0     9.0       NaN      1.0  \n",
              "1        0.0         2.0  121.833333      0.0    14.0       NaN      1.0  \n",
              "2        0.0         0.0  149.466667      1.0    10.0       NaN      1.0  \n",
              "3        NaN         NaN         NaN      NaN     NaN       NaN      1.0  \n",
              "4        0.0         0.0   93.333333      0.0    14.0       NaN      0.0  "
            ],
            "text/html": [
              "\n",
              "  <div id=\"df-fa9de153-f9da-4bec-ae77-ae4fe8c21780\">\n",
              "    <div class=\"colab-df-container\">\n",
              "      <div>\n",
              "<style scoped>\n",
              "    .dataframe tbody tr th:only-of-type {\n",
              "        vertical-align: middle;\n",
              "    }\n",
              "\n",
              "    .dataframe tbody tr th {\n",
              "        vertical-align: top;\n",
              "    }\n",
              "\n",
              "    .dataframe thead th {\n",
              "        text-align: right;\n",
              "    }\n",
              "</style>\n",
              "<table border=\"1\" class=\"dataframe\">\n",
              "  <thead>\n",
              "    <tr style=\"text-align: right;\">\n",
              "      <th></th>\n",
              "      <th>HEID</th>\n",
              "      <th>Loan_Amount</th>\n",
              "      <th>Mort_Bal</th>\n",
              "      <th>Home_Val</th>\n",
              "      <th>Reason_HE</th>\n",
              "      <th>Occupation</th>\n",
              "      <th>YOJ</th>\n",
              "      <th>Num_Derog</th>\n",
              "      <th>Num_Delinq</th>\n",
              "      <th>CL_Age</th>\n",
              "      <th>Num_Inq</th>\n",
              "      <th>Num_CL</th>\n",
              "      <th>Debt_Inc</th>\n",
              "      <th>Default</th>\n",
              "    </tr>\n",
              "  </thead>\n",
              "  <tbody>\n",
              "    <tr>\n",
              "      <th>0</th>\n",
              "      <td>1</td>\n",
              "      <td>1100</td>\n",
              "      <td>25860.0</td>\n",
              "      <td>39025.0</td>\n",
              "      <td>HomeImp</td>\n",
              "      <td>Other</td>\n",
              "      <td>10.5</td>\n",
              "      <td>0.0</td>\n",
              "      <td>0.0</td>\n",
              "      <td>94.366667</td>\n",
              "      <td>1.0</td>\n",
              "      <td>9.0</td>\n",
              "      <td>NaN</td>\n",
              "      <td>1.0</td>\n",
              "    </tr>\n",
              "    <tr>\n",
              "      <th>1</th>\n",
              "      <td>2</td>\n",
              "      <td>1300</td>\n",
              "      <td>70053.0</td>\n",
              "      <td>68400.0</td>\n",
              "      <td>HomeImp</td>\n",
              "      <td>Other</td>\n",
              "      <td>7.0</td>\n",
              "      <td>0.0</td>\n",
              "      <td>2.0</td>\n",
              "      <td>121.833333</td>\n",
              "      <td>0.0</td>\n",
              "      <td>14.0</td>\n",
              "      <td>NaN</td>\n",
              "      <td>1.0</td>\n",
              "    </tr>\n",
              "    <tr>\n",
              "      <th>2</th>\n",
              "      <td>3</td>\n",
              "      <td>1500</td>\n",
              "      <td>13500.0</td>\n",
              "      <td>16700.0</td>\n",
              "      <td>HomeImp</td>\n",
              "      <td>Other</td>\n",
              "      <td>4.0</td>\n",
              "      <td>0.0</td>\n",
              "      <td>0.0</td>\n",
              "      <td>149.466667</td>\n",
              "      <td>1.0</td>\n",
              "      <td>10.0</td>\n",
              "      <td>NaN</td>\n",
              "      <td>1.0</td>\n",
              "    </tr>\n",
              "    <tr>\n",
              "      <th>3</th>\n",
              "      <td>4</td>\n",
              "      <td>1500</td>\n",
              "      <td>NaN</td>\n",
              "      <td>NaN</td>\n",
              "      <td>NaN</td>\n",
              "      <td>NaN</td>\n",
              "      <td>NaN</td>\n",
              "      <td>NaN</td>\n",
              "      <td>NaN</td>\n",
              "      <td>NaN</td>\n",
              "      <td>NaN</td>\n",
              "      <td>NaN</td>\n",
              "      <td>NaN</td>\n",
              "      <td>1.0</td>\n",
              "    </tr>\n",
              "    <tr>\n",
              "      <th>4</th>\n",
              "      <td>5</td>\n",
              "      <td>1700</td>\n",
              "      <td>97800.0</td>\n",
              "      <td>112000.0</td>\n",
              "      <td>HomeImp</td>\n",
              "      <td>Office</td>\n",
              "      <td>3.0</td>\n",
              "      <td>0.0</td>\n",
              "      <td>0.0</td>\n",
              "      <td>93.333333</td>\n",
              "      <td>0.0</td>\n",
              "      <td>14.0</td>\n",
              "      <td>NaN</td>\n",
              "      <td>0.0</td>\n",
              "    </tr>\n",
              "  </tbody>\n",
              "</table>\n",
              "</div>\n",
              "      <button class=\"colab-df-convert\" onclick=\"convertToInteractive('df-fa9de153-f9da-4bec-ae77-ae4fe8c21780')\"\n",
              "              title=\"Convert this dataframe to an interactive table.\"\n",
              "              style=\"display:none;\">\n",
              "        \n",
              "  <svg xmlns=\"http://www.w3.org/2000/svg\" height=\"24px\"viewBox=\"0 0 24 24\"\n",
              "       width=\"24px\">\n",
              "    <path d=\"M0 0h24v24H0V0z\" fill=\"none\"/>\n",
              "    <path d=\"M18.56 5.44l.94 2.06.94-2.06 2.06-.94-2.06-.94-.94-2.06-.94 2.06-2.06.94zm-11 1L8.5 8.5l.94-2.06 2.06-.94-2.06-.94L8.5 2.5l-.94 2.06-2.06.94zm10 10l.94 2.06.94-2.06 2.06-.94-2.06-.94-.94-2.06-.94 2.06-2.06.94z\"/><path d=\"M17.41 7.96l-1.37-1.37c-.4-.4-.92-.59-1.43-.59-.52 0-1.04.2-1.43.59L10.3 9.45l-7.72 7.72c-.78.78-.78 2.05 0 2.83L4 21.41c.39.39.9.59 1.41.59.51 0 1.02-.2 1.41-.59l7.78-7.78 2.81-2.81c.8-.78.8-2.07 0-2.86zM5.41 20L4 18.59l7.72-7.72 1.47 1.35L5.41 20z\"/>\n",
              "  </svg>\n",
              "      </button>\n",
              "      \n",
              "  <style>\n",
              "    .colab-df-container {\n",
              "      display:flex;\n",
              "      flex-wrap:wrap;\n",
              "      gap: 12px;\n",
              "    }\n",
              "\n",
              "    .colab-df-convert {\n",
              "      background-color: #E8F0FE;\n",
              "      border: none;\n",
              "      border-radius: 50%;\n",
              "      cursor: pointer;\n",
              "      display: none;\n",
              "      fill: #1967D2;\n",
              "      height: 32px;\n",
              "      padding: 0 0 0 0;\n",
              "      width: 32px;\n",
              "    }\n",
              "\n",
              "    .colab-df-convert:hover {\n",
              "      background-color: #E2EBFA;\n",
              "      box-shadow: 0px 1px 2px rgba(60, 64, 67, 0.3), 0px 1px 3px 1px rgba(60, 64, 67, 0.15);\n",
              "      fill: #174EA6;\n",
              "    }\n",
              "\n",
              "    [theme=dark] .colab-df-convert {\n",
              "      background-color: #3B4455;\n",
              "      fill: #D2E3FC;\n",
              "    }\n",
              "\n",
              "    [theme=dark] .colab-df-convert:hover {\n",
              "      background-color: #434B5C;\n",
              "      box-shadow: 0px 1px 3px 1px rgba(0, 0, 0, 0.15);\n",
              "      filter: drop-shadow(0px 1px 2px rgba(0, 0, 0, 0.3));\n",
              "      fill: #FFFFFF;\n",
              "    }\n",
              "  </style>\n",
              "\n",
              "      <script>\n",
              "        const buttonEl =\n",
              "          document.querySelector('#df-fa9de153-f9da-4bec-ae77-ae4fe8c21780 button.colab-df-convert');\n",
              "        buttonEl.style.display =\n",
              "          google.colab.kernel.accessAllowed ? 'block' : 'none';\n",
              "\n",
              "        async function convertToInteractive(key) {\n",
              "          const element = document.querySelector('#df-fa9de153-f9da-4bec-ae77-ae4fe8c21780');\n",
              "          const dataTable =\n",
              "            await google.colab.kernel.invokeFunction('convertToInteractive',\n",
              "                                                     [key], {});\n",
              "          if (!dataTable) return;\n",
              "\n",
              "          const docLinkHtml = 'Like what you see? Visit the ' +\n",
              "            '<a target=\"_blank\" href=https://colab.research.google.com/notebooks/data_table.ipynb>data table notebook</a>'\n",
              "            + ' to learn more about interactive tables.';\n",
              "          element.innerHTML = '';\n",
              "          dataTable['output_type'] = 'display_data';\n",
              "          await google.colab.output.renderOutput(dataTable, element);\n",
              "          const docLink = document.createElement('div');\n",
              "          docLink.innerHTML = docLinkHtml;\n",
              "          element.appendChild(docLink);\n",
              "        }\n",
              "      </script>\n",
              "    </div>\n",
              "  </div>\n",
              "  "
            ]
          },
          "metadata": {},
          "execution_count": 25
        }
      ]
    },
    {
      "cell_type": "code",
      "source": [
        "df_he.info()"
      ],
      "metadata": {
        "colab": {
          "base_uri": "https://localhost:8080/"
        },
        "id": "4Kom7T_TuCgv",
        "outputId": "be16e4d3-9227-47f5-909b-a85764ed8cbe"
      },
      "execution_count": null,
      "outputs": [
        {
          "output_type": "stream",
          "name": "stdout",
          "text": [
            "<class 'pandas.core.frame.DataFrame'>\n",
            "RangeIndex: 5964 entries, 0 to 5963\n",
            "Data columns (total 14 columns):\n",
            " #   Column       Non-Null Count  Dtype  \n",
            "---  ------       --------------  -----  \n",
            " 0   HEID         5964 non-null   int64  \n",
            " 1   Loan_Amount  5964 non-null   int64  \n",
            " 2   Mort_Bal     5446 non-null   float64\n",
            " 3   Home_Val     5852 non-null   float64\n",
            " 4   Reason_HE    5712 non-null   object \n",
            " 5   Occupation   5684 non-null   object \n",
            " 6   YOJ          5448 non-null   float64\n",
            " 7   Num_Derog    5254 non-null   float64\n",
            " 8   Num_Delinq   5382 non-null   float64\n",
            " 9   CL_Age       5654 non-null   float64\n",
            " 10  Num_Inq      5453 non-null   float64\n",
            " 11  Num_CL       5741 non-null   float64\n",
            " 12  Debt_Inc     4697 non-null   float64\n",
            " 13  Default      5962 non-null   float64\n",
            "dtypes: float64(10), int64(2), object(2)\n",
            "memory usage: 652.4+ KB\n"
          ]
        }
      ]
    },
    {
      "cell_type": "markdown",
      "source": [
        "#Missing Values, Dropping Rows, One Hot Encoding"
      ],
      "metadata": {
        "id": "OXW1KNMeZxW_"
      }
    },
    {
      "cell_type": "code",
      "source": [
        "df_he.isna().sum()"
      ],
      "metadata": {
        "colab": {
          "base_uri": "https://localhost:8080/"
        },
        "id": "GOU00k0KyCTC",
        "outputId": "db495501-52df-4302-c611-fedb1202a7fa"
      },
      "execution_count": null,
      "outputs": [
        {
          "output_type": "execute_result",
          "data": {
            "text/plain": [
              "HEID              0\n",
              "Loan_Amount       0\n",
              "Mort_Bal        518\n",
              "Home_Val        112\n",
              "Reason_HE       252\n",
              "Occupation      280\n",
              "YOJ             516\n",
              "Num_Derog       710\n",
              "Num_Delinq      582\n",
              "CL_Age          310\n",
              "Num_Inq         511\n",
              "Num_CL          223\n",
              "Debt_Inc       1267\n",
              "Default           2\n",
              "dtype: int64"
            ]
          },
          "metadata": {},
          "execution_count": 27
        }
      ]
    },
    {
      "cell_type": "code",
      "source": [
        "df_he=df_he.dropna()"
      ],
      "metadata": {
        "id": "3LT2lswmyD2A"
      },
      "execution_count": null,
      "outputs": []
    },
    {
      "cell_type": "code",
      "source": [
        "len(df_he)"
      ],
      "metadata": {
        "colab": {
          "base_uri": "https://localhost:8080/"
        },
        "id": "yOnKmm-W0YqI",
        "outputId": "99c64ce1-d7ea-4fee-87aa-96b6cc588eb5"
      },
      "execution_count": null,
      "outputs": [
        {
          "output_type": "execute_result",
          "data": {
            "text/plain": [
              "3365"
            ]
          },
          "metadata": {},
          "execution_count": 29
        }
      ]
    },
    {
      "cell_type": "code",
      "source": [
        "df_he['Reason_HE'] = df_he['Reason_HE'].map({'HomeImp': 0, 'DebtCon': 1})"
      ],
      "metadata": {
        "id": "flt15ARL2gtR"
      },
      "execution_count": null,
      "outputs": []
    },
    {
      "cell_type": "code",
      "source": [
        "df_he.head()"
      ],
      "metadata": {
        "colab": {
          "base_uri": "https://localhost:8080/",
          "height": 270
        },
        "id": "OEfWR71l4Mnb",
        "outputId": "7de0916c-7837-4cd7-91e8-ce5044e99af6"
      },
      "execution_count": null,
      "outputs": [
        {
          "output_type": "execute_result",
          "data": {
            "text/plain": [
              "    HEID  Loan_Amount  Mort_Bal  Home_Val  Reason_HE Occupation   YOJ  \\\n",
              "5      6         1700   30548.0   40320.0          0      Other   9.0   \n",
              "7      8         1800   28502.0   43034.0          0      Other  11.0   \n",
              "19    20         2300  102370.0  120953.0          0     Office   2.0   \n",
              "25    26         2400   34863.0   47471.0          0        Mgr  12.0   \n",
              "26    27         2400   98449.0  117195.0          0     Office   4.0   \n",
              "\n",
              "    Num_Derog  Num_Delinq      CL_Age  Num_Inq  Num_CL   Debt_Inc  Default  \n",
              "5         0.0         0.0  101.466002      1.0     8.0  37.113614      1.0  \n",
              "7         0.0         0.0   88.766030      0.0     8.0  36.884894      1.0  \n",
              "19        0.0         0.0   90.992533      0.0    13.0  31.588503      0.0  \n",
              "25        0.0         0.0   70.491080      1.0    21.0  38.263601      1.0  \n",
              "26        0.0         0.0   93.811775      0.0    13.0  29.681827      0.0  "
            ],
            "text/html": [
              "\n",
              "  <div id=\"df-a269dea7-5c80-4584-90a8-a2428b05a48a\">\n",
              "    <div class=\"colab-df-container\">\n",
              "      <div>\n",
              "<style scoped>\n",
              "    .dataframe tbody tr th:only-of-type {\n",
              "        vertical-align: middle;\n",
              "    }\n",
              "\n",
              "    .dataframe tbody tr th {\n",
              "        vertical-align: top;\n",
              "    }\n",
              "\n",
              "    .dataframe thead th {\n",
              "        text-align: right;\n",
              "    }\n",
              "</style>\n",
              "<table border=\"1\" class=\"dataframe\">\n",
              "  <thead>\n",
              "    <tr style=\"text-align: right;\">\n",
              "      <th></th>\n",
              "      <th>HEID</th>\n",
              "      <th>Loan_Amount</th>\n",
              "      <th>Mort_Bal</th>\n",
              "      <th>Home_Val</th>\n",
              "      <th>Reason_HE</th>\n",
              "      <th>Occupation</th>\n",
              "      <th>YOJ</th>\n",
              "      <th>Num_Derog</th>\n",
              "      <th>Num_Delinq</th>\n",
              "      <th>CL_Age</th>\n",
              "      <th>Num_Inq</th>\n",
              "      <th>Num_CL</th>\n",
              "      <th>Debt_Inc</th>\n",
              "      <th>Default</th>\n",
              "    </tr>\n",
              "  </thead>\n",
              "  <tbody>\n",
              "    <tr>\n",
              "      <th>5</th>\n",
              "      <td>6</td>\n",
              "      <td>1700</td>\n",
              "      <td>30548.0</td>\n",
              "      <td>40320.0</td>\n",
              "      <td>0</td>\n",
              "      <td>Other</td>\n",
              "      <td>9.0</td>\n",
              "      <td>0.0</td>\n",
              "      <td>0.0</td>\n",
              "      <td>101.466002</td>\n",
              "      <td>1.0</td>\n",
              "      <td>8.0</td>\n",
              "      <td>37.113614</td>\n",
              "      <td>1.0</td>\n",
              "    </tr>\n",
              "    <tr>\n",
              "      <th>7</th>\n",
              "      <td>8</td>\n",
              "      <td>1800</td>\n",
              "      <td>28502.0</td>\n",
              "      <td>43034.0</td>\n",
              "      <td>0</td>\n",
              "      <td>Other</td>\n",
              "      <td>11.0</td>\n",
              "      <td>0.0</td>\n",
              "      <td>0.0</td>\n",
              "      <td>88.766030</td>\n",
              "      <td>0.0</td>\n",
              "      <td>8.0</td>\n",
              "      <td>36.884894</td>\n",
              "      <td>1.0</td>\n",
              "    </tr>\n",
              "    <tr>\n",
              "      <th>19</th>\n",
              "      <td>20</td>\n",
              "      <td>2300</td>\n",
              "      <td>102370.0</td>\n",
              "      <td>120953.0</td>\n",
              "      <td>0</td>\n",
              "      <td>Office</td>\n",
              "      <td>2.0</td>\n",
              "      <td>0.0</td>\n",
              "      <td>0.0</td>\n",
              "      <td>90.992533</td>\n",
              "      <td>0.0</td>\n",
              "      <td>13.0</td>\n",
              "      <td>31.588503</td>\n",
              "      <td>0.0</td>\n",
              "    </tr>\n",
              "    <tr>\n",
              "      <th>25</th>\n",
              "      <td>26</td>\n",
              "      <td>2400</td>\n",
              "      <td>34863.0</td>\n",
              "      <td>47471.0</td>\n",
              "      <td>0</td>\n",
              "      <td>Mgr</td>\n",
              "      <td>12.0</td>\n",
              "      <td>0.0</td>\n",
              "      <td>0.0</td>\n",
              "      <td>70.491080</td>\n",
              "      <td>1.0</td>\n",
              "      <td>21.0</td>\n",
              "      <td>38.263601</td>\n",
              "      <td>1.0</td>\n",
              "    </tr>\n",
              "    <tr>\n",
              "      <th>26</th>\n",
              "      <td>27</td>\n",
              "      <td>2400</td>\n",
              "      <td>98449.0</td>\n",
              "      <td>117195.0</td>\n",
              "      <td>0</td>\n",
              "      <td>Office</td>\n",
              "      <td>4.0</td>\n",
              "      <td>0.0</td>\n",
              "      <td>0.0</td>\n",
              "      <td>93.811775</td>\n",
              "      <td>0.0</td>\n",
              "      <td>13.0</td>\n",
              "      <td>29.681827</td>\n",
              "      <td>0.0</td>\n",
              "    </tr>\n",
              "  </tbody>\n",
              "</table>\n",
              "</div>\n",
              "      <button class=\"colab-df-convert\" onclick=\"convertToInteractive('df-a269dea7-5c80-4584-90a8-a2428b05a48a')\"\n",
              "              title=\"Convert this dataframe to an interactive table.\"\n",
              "              style=\"display:none;\">\n",
              "        \n",
              "  <svg xmlns=\"http://www.w3.org/2000/svg\" height=\"24px\"viewBox=\"0 0 24 24\"\n",
              "       width=\"24px\">\n",
              "    <path d=\"M0 0h24v24H0V0z\" fill=\"none\"/>\n",
              "    <path d=\"M18.56 5.44l.94 2.06.94-2.06 2.06-.94-2.06-.94-.94-2.06-.94 2.06-2.06.94zm-11 1L8.5 8.5l.94-2.06 2.06-.94-2.06-.94L8.5 2.5l-.94 2.06-2.06.94zm10 10l.94 2.06.94-2.06 2.06-.94-2.06-.94-.94-2.06-.94 2.06-2.06.94z\"/><path d=\"M17.41 7.96l-1.37-1.37c-.4-.4-.92-.59-1.43-.59-.52 0-1.04.2-1.43.59L10.3 9.45l-7.72 7.72c-.78.78-.78 2.05 0 2.83L4 21.41c.39.39.9.59 1.41.59.51 0 1.02-.2 1.41-.59l7.78-7.78 2.81-2.81c.8-.78.8-2.07 0-2.86zM5.41 20L4 18.59l7.72-7.72 1.47 1.35L5.41 20z\"/>\n",
              "  </svg>\n",
              "      </button>\n",
              "      \n",
              "  <style>\n",
              "    .colab-df-container {\n",
              "      display:flex;\n",
              "      flex-wrap:wrap;\n",
              "      gap: 12px;\n",
              "    }\n",
              "\n",
              "    .colab-df-convert {\n",
              "      background-color: #E8F0FE;\n",
              "      border: none;\n",
              "      border-radius: 50%;\n",
              "      cursor: pointer;\n",
              "      display: none;\n",
              "      fill: #1967D2;\n",
              "      height: 32px;\n",
              "      padding: 0 0 0 0;\n",
              "      width: 32px;\n",
              "    }\n",
              "\n",
              "    .colab-df-convert:hover {\n",
              "      background-color: #E2EBFA;\n",
              "      box-shadow: 0px 1px 2px rgba(60, 64, 67, 0.3), 0px 1px 3px 1px rgba(60, 64, 67, 0.15);\n",
              "      fill: #174EA6;\n",
              "    }\n",
              "\n",
              "    [theme=dark] .colab-df-convert {\n",
              "      background-color: #3B4455;\n",
              "      fill: #D2E3FC;\n",
              "    }\n",
              "\n",
              "    [theme=dark] .colab-df-convert:hover {\n",
              "      background-color: #434B5C;\n",
              "      box-shadow: 0px 1px 3px 1px rgba(0, 0, 0, 0.15);\n",
              "      filter: drop-shadow(0px 1px 2px rgba(0, 0, 0, 0.3));\n",
              "      fill: #FFFFFF;\n",
              "    }\n",
              "  </style>\n",
              "\n",
              "      <script>\n",
              "        const buttonEl =\n",
              "          document.querySelector('#df-a269dea7-5c80-4584-90a8-a2428b05a48a button.colab-df-convert');\n",
              "        buttonEl.style.display =\n",
              "          google.colab.kernel.accessAllowed ? 'block' : 'none';\n",
              "\n",
              "        async function convertToInteractive(key) {\n",
              "          const element = document.querySelector('#df-a269dea7-5c80-4584-90a8-a2428b05a48a');\n",
              "          const dataTable =\n",
              "            await google.colab.kernel.invokeFunction('convertToInteractive',\n",
              "                                                     [key], {});\n",
              "          if (!dataTable) return;\n",
              "\n",
              "          const docLinkHtml = 'Like what you see? Visit the ' +\n",
              "            '<a target=\"_blank\" href=https://colab.research.google.com/notebooks/data_table.ipynb>data table notebook</a>'\n",
              "            + ' to learn more about interactive tables.';\n",
              "          element.innerHTML = '';\n",
              "          dataTable['output_type'] = 'display_data';\n",
              "          await google.colab.output.renderOutput(dataTable, element);\n",
              "          const docLink = document.createElement('div');\n",
              "          docLink.innerHTML = docLinkHtml;\n",
              "          element.appendChild(docLink);\n",
              "        }\n",
              "      </script>\n",
              "    </div>\n",
              "  </div>\n",
              "  "
            ]
          },
          "metadata": {},
          "execution_count": 35
        }
      ]
    },
    {
      "cell_type": "code",
      "source": [
        "# checking features\n",
        "cat = df_he.select_dtypes(include='O').keys()\n",
        "# display variabels\n",
        "cat"
      ],
      "metadata": {
        "colab": {
          "base_uri": "https://localhost:8080/"
        },
        "id": "m5q1vzLN4WFP",
        "outputId": "0fbf1ae7-9624-4bd7-934d-b8f49d697109"
      },
      "execution_count": null,
      "outputs": [
        {
          "output_type": "execute_result",
          "data": {
            "text/plain": [
              "Index(['Occupation'], dtype='object')"
            ]
          },
          "metadata": {},
          "execution_count": 36
        }
      ]
    },
    {
      "cell_type": "code",
      "source": [
        "# creating new df\n",
        "# setting columns we use\n",
        "new_df_he = pd.read_csv('home_equity.csv',usecols=['Occupation']) \n",
        "new_df_he.head()"
      ],
      "metadata": {
        "colab": {
          "base_uri": "https://localhost:8080/",
          "height": 206
        },
        "id": "68oB9jFk4WAV",
        "outputId": "efe515a6-d11c-4238-ae99-4e62a17f740a"
      },
      "execution_count": null,
      "outputs": [
        {
          "output_type": "execute_result",
          "data": {
            "text/plain": [
              "  Occupation\n",
              "0      Other\n",
              "1      Other\n",
              "2      Other\n",
              "3        NaN\n",
              "4     Office"
            ],
            "text/html": [
              "\n",
              "  <div id=\"df-5be2765a-ee2d-431d-8bec-7c5ff8e52bb9\">\n",
              "    <div class=\"colab-df-container\">\n",
              "      <div>\n",
              "<style scoped>\n",
              "    .dataframe tbody tr th:only-of-type {\n",
              "        vertical-align: middle;\n",
              "    }\n",
              "\n",
              "    .dataframe tbody tr th {\n",
              "        vertical-align: top;\n",
              "    }\n",
              "\n",
              "    .dataframe thead th {\n",
              "        text-align: right;\n",
              "    }\n",
              "</style>\n",
              "<table border=\"1\" class=\"dataframe\">\n",
              "  <thead>\n",
              "    <tr style=\"text-align: right;\">\n",
              "      <th></th>\n",
              "      <th>Occupation</th>\n",
              "    </tr>\n",
              "  </thead>\n",
              "  <tbody>\n",
              "    <tr>\n",
              "      <th>0</th>\n",
              "      <td>Other</td>\n",
              "    </tr>\n",
              "    <tr>\n",
              "      <th>1</th>\n",
              "      <td>Other</td>\n",
              "    </tr>\n",
              "    <tr>\n",
              "      <th>2</th>\n",
              "      <td>Other</td>\n",
              "    </tr>\n",
              "    <tr>\n",
              "      <th>3</th>\n",
              "      <td>NaN</td>\n",
              "    </tr>\n",
              "    <tr>\n",
              "      <th>4</th>\n",
              "      <td>Office</td>\n",
              "    </tr>\n",
              "  </tbody>\n",
              "</table>\n",
              "</div>\n",
              "      <button class=\"colab-df-convert\" onclick=\"convertToInteractive('df-5be2765a-ee2d-431d-8bec-7c5ff8e52bb9')\"\n",
              "              title=\"Convert this dataframe to an interactive table.\"\n",
              "              style=\"display:none;\">\n",
              "        \n",
              "  <svg xmlns=\"http://www.w3.org/2000/svg\" height=\"24px\"viewBox=\"0 0 24 24\"\n",
              "       width=\"24px\">\n",
              "    <path d=\"M0 0h24v24H0V0z\" fill=\"none\"/>\n",
              "    <path d=\"M18.56 5.44l.94 2.06.94-2.06 2.06-.94-2.06-.94-.94-2.06-.94 2.06-2.06.94zm-11 1L8.5 8.5l.94-2.06 2.06-.94-2.06-.94L8.5 2.5l-.94 2.06-2.06.94zm10 10l.94 2.06.94-2.06 2.06-.94-2.06-.94-.94-2.06-.94 2.06-2.06.94z\"/><path d=\"M17.41 7.96l-1.37-1.37c-.4-.4-.92-.59-1.43-.59-.52 0-1.04.2-1.43.59L10.3 9.45l-7.72 7.72c-.78.78-.78 2.05 0 2.83L4 21.41c.39.39.9.59 1.41.59.51 0 1.02-.2 1.41-.59l7.78-7.78 2.81-2.81c.8-.78.8-2.07 0-2.86zM5.41 20L4 18.59l7.72-7.72 1.47 1.35L5.41 20z\"/>\n",
              "  </svg>\n",
              "      </button>\n",
              "      \n",
              "  <style>\n",
              "    .colab-df-container {\n",
              "      display:flex;\n",
              "      flex-wrap:wrap;\n",
              "      gap: 12px;\n",
              "    }\n",
              "\n",
              "    .colab-df-convert {\n",
              "      background-color: #E8F0FE;\n",
              "      border: none;\n",
              "      border-radius: 50%;\n",
              "      cursor: pointer;\n",
              "      display: none;\n",
              "      fill: #1967D2;\n",
              "      height: 32px;\n",
              "      padding: 0 0 0 0;\n",
              "      width: 32px;\n",
              "    }\n",
              "\n",
              "    .colab-df-convert:hover {\n",
              "      background-color: #E2EBFA;\n",
              "      box-shadow: 0px 1px 2px rgba(60, 64, 67, 0.3), 0px 1px 3px 1px rgba(60, 64, 67, 0.15);\n",
              "      fill: #174EA6;\n",
              "    }\n",
              "\n",
              "    [theme=dark] .colab-df-convert {\n",
              "      background-color: #3B4455;\n",
              "      fill: #D2E3FC;\n",
              "    }\n",
              "\n",
              "    [theme=dark] .colab-df-convert:hover {\n",
              "      background-color: #434B5C;\n",
              "      box-shadow: 0px 1px 3px 1px rgba(0, 0, 0, 0.15);\n",
              "      filter: drop-shadow(0px 1px 2px rgba(0, 0, 0, 0.3));\n",
              "      fill: #FFFFFF;\n",
              "    }\n",
              "  </style>\n",
              "\n",
              "      <script>\n",
              "        const buttonEl =\n",
              "          document.querySelector('#df-5be2765a-ee2d-431d-8bec-7c5ff8e52bb9 button.colab-df-convert');\n",
              "        buttonEl.style.display =\n",
              "          google.colab.kernel.accessAllowed ? 'block' : 'none';\n",
              "\n",
              "        async function convertToInteractive(key) {\n",
              "          const element = document.querySelector('#df-5be2765a-ee2d-431d-8bec-7c5ff8e52bb9');\n",
              "          const dataTable =\n",
              "            await google.colab.kernel.invokeFunction('convertToInteractive',\n",
              "                                                     [key], {});\n",
              "          if (!dataTable) return;\n",
              "\n",
              "          const docLinkHtml = 'Like what you see? Visit the ' +\n",
              "            '<a target=\"_blank\" href=https://colab.research.google.com/notebooks/data_table.ipynb>data table notebook</a>'\n",
              "            + ' to learn more about interactive tables.';\n",
              "          element.innerHTML = '';\n",
              "          dataTable['output_type'] = 'display_data';\n",
              "          await google.colab.output.renderOutput(dataTable, element);\n",
              "          const docLink = document.createElement('div');\n",
              "          docLink.innerHTML = docLinkHtml;\n",
              "          element.appendChild(docLink);\n",
              "        }\n",
              "      </script>\n",
              "    </div>\n",
              "  </div>\n",
              "  "
            ]
          },
          "metadata": {},
          "execution_count": 69
        }
      ]
    },
    {
      "cell_type": "code",
      "source": [
        "new_df_he.isna().sum()"
      ],
      "metadata": {
        "colab": {
          "base_uri": "https://localhost:8080/"
        },
        "id": "foxYpaxH78ev",
        "outputId": "967cea38-cb42-4963-8e83-bb94cc996531"
      },
      "execution_count": null,
      "outputs": [
        {
          "output_type": "execute_result",
          "data": {
            "text/plain": [
              "Occupation    280\n",
              "dtype: int64"
            ]
          },
          "metadata": {},
          "execution_count": 70
        }
      ]
    },
    {
      "cell_type": "code",
      "source": [
        "new_df_he=new_df_he.dropna()"
      ],
      "metadata": {
        "id": "OVH08tvD8Crk"
      },
      "execution_count": null,
      "outputs": []
    },
    {
      "cell_type": "code",
      "source": [
        "new_df_he.head()"
      ],
      "metadata": {
        "colab": {
          "base_uri": "https://localhost:8080/",
          "height": 206
        },
        "id": "QVnkCuW-8LMW",
        "outputId": "5ce67ed9-dadb-4891-f592-9db533435797"
      },
      "execution_count": null,
      "outputs": [
        {
          "output_type": "execute_result",
          "data": {
            "text/plain": [
              "  Occupation\n",
              "0      Other\n",
              "1      Other\n",
              "2      Other\n",
              "4     Office\n",
              "5      Other"
            ],
            "text/html": [
              "\n",
              "  <div id=\"df-573e4bbd-15d9-484f-8e40-17f4abb567cc\">\n",
              "    <div class=\"colab-df-container\">\n",
              "      <div>\n",
              "<style scoped>\n",
              "    .dataframe tbody tr th:only-of-type {\n",
              "        vertical-align: middle;\n",
              "    }\n",
              "\n",
              "    .dataframe tbody tr th {\n",
              "        vertical-align: top;\n",
              "    }\n",
              "\n",
              "    .dataframe thead th {\n",
              "        text-align: right;\n",
              "    }\n",
              "</style>\n",
              "<table border=\"1\" class=\"dataframe\">\n",
              "  <thead>\n",
              "    <tr style=\"text-align: right;\">\n",
              "      <th></th>\n",
              "      <th>Occupation</th>\n",
              "    </tr>\n",
              "  </thead>\n",
              "  <tbody>\n",
              "    <tr>\n",
              "      <th>0</th>\n",
              "      <td>Other</td>\n",
              "    </tr>\n",
              "    <tr>\n",
              "      <th>1</th>\n",
              "      <td>Other</td>\n",
              "    </tr>\n",
              "    <tr>\n",
              "      <th>2</th>\n",
              "      <td>Other</td>\n",
              "    </tr>\n",
              "    <tr>\n",
              "      <th>4</th>\n",
              "      <td>Office</td>\n",
              "    </tr>\n",
              "    <tr>\n",
              "      <th>5</th>\n",
              "      <td>Other</td>\n",
              "    </tr>\n",
              "  </tbody>\n",
              "</table>\n",
              "</div>\n",
              "      <button class=\"colab-df-convert\" onclick=\"convertToInteractive('df-573e4bbd-15d9-484f-8e40-17f4abb567cc')\"\n",
              "              title=\"Convert this dataframe to an interactive table.\"\n",
              "              style=\"display:none;\">\n",
              "        \n",
              "  <svg xmlns=\"http://www.w3.org/2000/svg\" height=\"24px\"viewBox=\"0 0 24 24\"\n",
              "       width=\"24px\">\n",
              "    <path d=\"M0 0h24v24H0V0z\" fill=\"none\"/>\n",
              "    <path d=\"M18.56 5.44l.94 2.06.94-2.06 2.06-.94-2.06-.94-.94-2.06-.94 2.06-2.06.94zm-11 1L8.5 8.5l.94-2.06 2.06-.94-2.06-.94L8.5 2.5l-.94 2.06-2.06.94zm10 10l.94 2.06.94-2.06 2.06-.94-2.06-.94-.94-2.06-.94 2.06-2.06.94z\"/><path d=\"M17.41 7.96l-1.37-1.37c-.4-.4-.92-.59-1.43-.59-.52 0-1.04.2-1.43.59L10.3 9.45l-7.72 7.72c-.78.78-.78 2.05 0 2.83L4 21.41c.39.39.9.59 1.41.59.51 0 1.02-.2 1.41-.59l7.78-7.78 2.81-2.81c.8-.78.8-2.07 0-2.86zM5.41 20L4 18.59l7.72-7.72 1.47 1.35L5.41 20z\"/>\n",
              "  </svg>\n",
              "      </button>\n",
              "      \n",
              "  <style>\n",
              "    .colab-df-container {\n",
              "      display:flex;\n",
              "      flex-wrap:wrap;\n",
              "      gap: 12px;\n",
              "    }\n",
              "\n",
              "    .colab-df-convert {\n",
              "      background-color: #E8F0FE;\n",
              "      border: none;\n",
              "      border-radius: 50%;\n",
              "      cursor: pointer;\n",
              "      display: none;\n",
              "      fill: #1967D2;\n",
              "      height: 32px;\n",
              "      padding: 0 0 0 0;\n",
              "      width: 32px;\n",
              "    }\n",
              "\n",
              "    .colab-df-convert:hover {\n",
              "      background-color: #E2EBFA;\n",
              "      box-shadow: 0px 1px 2px rgba(60, 64, 67, 0.3), 0px 1px 3px 1px rgba(60, 64, 67, 0.15);\n",
              "      fill: #174EA6;\n",
              "    }\n",
              "\n",
              "    [theme=dark] .colab-df-convert {\n",
              "      background-color: #3B4455;\n",
              "      fill: #D2E3FC;\n",
              "    }\n",
              "\n",
              "    [theme=dark] .colab-df-convert:hover {\n",
              "      background-color: #434B5C;\n",
              "      box-shadow: 0px 1px 3px 1px rgba(0, 0, 0, 0.15);\n",
              "      filter: drop-shadow(0px 1px 2px rgba(0, 0, 0, 0.3));\n",
              "      fill: #FFFFFF;\n",
              "    }\n",
              "  </style>\n",
              "\n",
              "      <script>\n",
              "        const buttonEl =\n",
              "          document.querySelector('#df-573e4bbd-15d9-484f-8e40-17f4abb567cc button.colab-df-convert');\n",
              "        buttonEl.style.display =\n",
              "          google.colab.kernel.accessAllowed ? 'block' : 'none';\n",
              "\n",
              "        async function convertToInteractive(key) {\n",
              "          const element = document.querySelector('#df-573e4bbd-15d9-484f-8e40-17f4abb567cc');\n",
              "          const dataTable =\n",
              "            await google.colab.kernel.invokeFunction('convertToInteractive',\n",
              "                                                     [key], {});\n",
              "          if (!dataTable) return;\n",
              "\n",
              "          const docLinkHtml = 'Like what you see? Visit the ' +\n",
              "            '<a target=\"_blank\" href=https://colab.research.google.com/notebooks/data_table.ipynb>data table notebook</a>'\n",
              "            + ' to learn more about interactive tables.';\n",
              "          element.innerHTML = '';\n",
              "          dataTable['output_type'] = 'display_data';\n",
              "          await google.colab.output.renderOutput(dataTable, element);\n",
              "          const docLink = document.createElement('div');\n",
              "          docLink.innerHTML = docLinkHtml;\n",
              "          element.appendChild(docLink);\n",
              "        }\n",
              "      </script>\n",
              "    </div>\n",
              "  </div>\n",
              "  "
            ]
          },
          "metadata": {},
          "execution_count": 72
        }
      ]
    },
    {
      "cell_type": "code",
      "source": [
        "# unique values in each columns\n",
        "for x in new_df_he.columns:\n",
        "    #prinfting unique values\n",
        "    print(x ,':', len(new_df_he[x].unique()))"
      ],
      "metadata": {
        "colab": {
          "base_uri": "https://localhost:8080/"
        },
        "id": "qMRRGgkZ4V2p",
        "outputId": "34f5611b-4f01-4952-ed7a-d3d8908e8cb1"
      },
      "execution_count": null,
      "outputs": [
        {
          "output_type": "stream",
          "name": "stdout",
          "text": [
            "Occupation : 6\n"
          ]
        }
      ]
    },
    {
      "cell_type": "code",
      "source": [
        "# finding the top 20 categories\n",
        "new_df_he.Occupation.value_counts().sort_values(ascending=False).head(6)"
      ],
      "metadata": {
        "colab": {
          "base_uri": "https://localhost:8080/"
        },
        "id": "YEiQKDeV8kSW",
        "outputId": "621e0291-c43a-461a-8b1c-ec22f1e36f21"
      },
      "execution_count": null,
      "outputs": [
        {
          "output_type": "execute_result",
          "data": {
            "text/plain": [
              "Other      2391\n",
              "ProfExe    1276\n",
              "Office      948\n",
              "Mgr         767\n",
              "Self        193\n",
              "Sales       109\n",
              "Name: Occupation, dtype: int64"
            ]
          },
          "metadata": {},
          "execution_count": 74
        }
      ]
    },
    {
      "cell_type": "code",
      "source": [
        "# make list with top 6 variables\n",
        "top_6 = [x for x in new_df_he.Occupation.value_counts().sort_values(ascending=False).head(6).index]\n",
        "top_6"
      ],
      "metadata": {
        "colab": {
          "base_uri": "https://localhost:8080/"
        },
        "id": "7tVmvKPc9XSX",
        "outputId": "375a05e7-5b6a-4f96-9312-a586ae4ecc5f"
      },
      "execution_count": null,
      "outputs": [
        {
          "output_type": "execute_result",
          "data": {
            "text/plain": [
              "['Other', 'ProfExe', 'Office', 'Mgr', 'Self', 'Sales']"
            ]
          },
          "metadata": {},
          "execution_count": 75
        }
      ]
    },
    {
      "cell_type": "code",
      "source": [
        "# Get one hot encoding of columns B\n",
        "one_hot = pd.get_dummies(new_df_he['Occupation'])\n",
        "one_hot"
      ],
      "metadata": {
        "colab": {
          "base_uri": "https://localhost:8080/",
          "height": 424
        },
        "id": "UV9qOIIi9DmD",
        "outputId": "c08c2278-40d4-4471-be14-690a4caa8ccd"
      },
      "execution_count": null,
      "outputs": [
        {
          "output_type": "execute_result",
          "data": {
            "text/plain": [
              "      Mgr  Office  Other  ProfExe  Sales  Self\n",
              "0       0       0      1        0      0     0\n",
              "1       0       0      1        0      0     0\n",
              "2       0       0      1        0      0     0\n",
              "4       0       1      0        0      0     0\n",
              "5       0       0      1        0      0     0\n",
              "...   ...     ...    ...      ...    ...   ...\n",
              "5959    0       0      1        0      0     0\n",
              "5960    0       0      1        0      0     0\n",
              "5961    0       0      1        0      0     0\n",
              "5962    0       0      1        0      0     0\n",
              "5963    0       0      1        0      0     0\n",
              "\n",
              "[5684 rows x 6 columns]"
            ],
            "text/html": [
              "\n",
              "  <div id=\"df-b5012719-203a-4a85-b371-15327b7741b7\">\n",
              "    <div class=\"colab-df-container\">\n",
              "      <div>\n",
              "<style scoped>\n",
              "    .dataframe tbody tr th:only-of-type {\n",
              "        vertical-align: middle;\n",
              "    }\n",
              "\n",
              "    .dataframe tbody tr th {\n",
              "        vertical-align: top;\n",
              "    }\n",
              "\n",
              "    .dataframe thead th {\n",
              "        text-align: right;\n",
              "    }\n",
              "</style>\n",
              "<table border=\"1\" class=\"dataframe\">\n",
              "  <thead>\n",
              "    <tr style=\"text-align: right;\">\n",
              "      <th></th>\n",
              "      <th>Mgr</th>\n",
              "      <th>Office</th>\n",
              "      <th>Other</th>\n",
              "      <th>ProfExe</th>\n",
              "      <th>Sales</th>\n",
              "      <th>Self</th>\n",
              "    </tr>\n",
              "  </thead>\n",
              "  <tbody>\n",
              "    <tr>\n",
              "      <th>0</th>\n",
              "      <td>0</td>\n",
              "      <td>0</td>\n",
              "      <td>1</td>\n",
              "      <td>0</td>\n",
              "      <td>0</td>\n",
              "      <td>0</td>\n",
              "    </tr>\n",
              "    <tr>\n",
              "      <th>1</th>\n",
              "      <td>0</td>\n",
              "      <td>0</td>\n",
              "      <td>1</td>\n",
              "      <td>0</td>\n",
              "      <td>0</td>\n",
              "      <td>0</td>\n",
              "    </tr>\n",
              "    <tr>\n",
              "      <th>2</th>\n",
              "      <td>0</td>\n",
              "      <td>0</td>\n",
              "      <td>1</td>\n",
              "      <td>0</td>\n",
              "      <td>0</td>\n",
              "      <td>0</td>\n",
              "    </tr>\n",
              "    <tr>\n",
              "      <th>4</th>\n",
              "      <td>0</td>\n",
              "      <td>1</td>\n",
              "      <td>0</td>\n",
              "      <td>0</td>\n",
              "      <td>0</td>\n",
              "      <td>0</td>\n",
              "    </tr>\n",
              "    <tr>\n",
              "      <th>5</th>\n",
              "      <td>0</td>\n",
              "      <td>0</td>\n",
              "      <td>1</td>\n",
              "      <td>0</td>\n",
              "      <td>0</td>\n",
              "      <td>0</td>\n",
              "    </tr>\n",
              "    <tr>\n",
              "      <th>...</th>\n",
              "      <td>...</td>\n",
              "      <td>...</td>\n",
              "      <td>...</td>\n",
              "      <td>...</td>\n",
              "      <td>...</td>\n",
              "      <td>...</td>\n",
              "    </tr>\n",
              "    <tr>\n",
              "      <th>5959</th>\n",
              "      <td>0</td>\n",
              "      <td>0</td>\n",
              "      <td>1</td>\n",
              "      <td>0</td>\n",
              "      <td>0</td>\n",
              "      <td>0</td>\n",
              "    </tr>\n",
              "    <tr>\n",
              "      <th>5960</th>\n",
              "      <td>0</td>\n",
              "      <td>0</td>\n",
              "      <td>1</td>\n",
              "      <td>0</td>\n",
              "      <td>0</td>\n",
              "      <td>0</td>\n",
              "    </tr>\n",
              "    <tr>\n",
              "      <th>5961</th>\n",
              "      <td>0</td>\n",
              "      <td>0</td>\n",
              "      <td>1</td>\n",
              "      <td>0</td>\n",
              "      <td>0</td>\n",
              "      <td>0</td>\n",
              "    </tr>\n",
              "    <tr>\n",
              "      <th>5962</th>\n",
              "      <td>0</td>\n",
              "      <td>0</td>\n",
              "      <td>1</td>\n",
              "      <td>0</td>\n",
              "      <td>0</td>\n",
              "      <td>0</td>\n",
              "    </tr>\n",
              "    <tr>\n",
              "      <th>5963</th>\n",
              "      <td>0</td>\n",
              "      <td>0</td>\n",
              "      <td>1</td>\n",
              "      <td>0</td>\n",
              "      <td>0</td>\n",
              "      <td>0</td>\n",
              "    </tr>\n",
              "  </tbody>\n",
              "</table>\n",
              "<p>5684 rows × 6 columns</p>\n",
              "</div>\n",
              "      <button class=\"colab-df-convert\" onclick=\"convertToInteractive('df-b5012719-203a-4a85-b371-15327b7741b7')\"\n",
              "              title=\"Convert this dataframe to an interactive table.\"\n",
              "              style=\"display:none;\">\n",
              "        \n",
              "  <svg xmlns=\"http://www.w3.org/2000/svg\" height=\"24px\"viewBox=\"0 0 24 24\"\n",
              "       width=\"24px\">\n",
              "    <path d=\"M0 0h24v24H0V0z\" fill=\"none\"/>\n",
              "    <path d=\"M18.56 5.44l.94 2.06.94-2.06 2.06-.94-2.06-.94-.94-2.06-.94 2.06-2.06.94zm-11 1L8.5 8.5l.94-2.06 2.06-.94-2.06-.94L8.5 2.5l-.94 2.06-2.06.94zm10 10l.94 2.06.94-2.06 2.06-.94-2.06-.94-.94-2.06-.94 2.06-2.06.94z\"/><path d=\"M17.41 7.96l-1.37-1.37c-.4-.4-.92-.59-1.43-.59-.52 0-1.04.2-1.43.59L10.3 9.45l-7.72 7.72c-.78.78-.78 2.05 0 2.83L4 21.41c.39.39.9.59 1.41.59.51 0 1.02-.2 1.41-.59l7.78-7.78 2.81-2.81c.8-.78.8-2.07 0-2.86zM5.41 20L4 18.59l7.72-7.72 1.47 1.35L5.41 20z\"/>\n",
              "  </svg>\n",
              "      </button>\n",
              "      \n",
              "  <style>\n",
              "    .colab-df-container {\n",
              "      display:flex;\n",
              "      flex-wrap:wrap;\n",
              "      gap: 12px;\n",
              "    }\n",
              "\n",
              "    .colab-df-convert {\n",
              "      background-color: #E8F0FE;\n",
              "      border: none;\n",
              "      border-radius: 50%;\n",
              "      cursor: pointer;\n",
              "      display: none;\n",
              "      fill: #1967D2;\n",
              "      height: 32px;\n",
              "      padding: 0 0 0 0;\n",
              "      width: 32px;\n",
              "    }\n",
              "\n",
              "    .colab-df-convert:hover {\n",
              "      background-color: #E2EBFA;\n",
              "      box-shadow: 0px 1px 2px rgba(60, 64, 67, 0.3), 0px 1px 3px 1px rgba(60, 64, 67, 0.15);\n",
              "      fill: #174EA6;\n",
              "    }\n",
              "\n",
              "    [theme=dark] .colab-df-convert {\n",
              "      background-color: #3B4455;\n",
              "      fill: #D2E3FC;\n",
              "    }\n",
              "\n",
              "    [theme=dark] .colab-df-convert:hover {\n",
              "      background-color: #434B5C;\n",
              "      box-shadow: 0px 1px 3px 1px rgba(0, 0, 0, 0.15);\n",
              "      filter: drop-shadow(0px 1px 2px rgba(0, 0, 0, 0.3));\n",
              "      fill: #FFFFFF;\n",
              "    }\n",
              "  </style>\n",
              "\n",
              "      <script>\n",
              "        const buttonEl =\n",
              "          document.querySelector('#df-b5012719-203a-4a85-b371-15327b7741b7 button.colab-df-convert');\n",
              "        buttonEl.style.display =\n",
              "          google.colab.kernel.accessAllowed ? 'block' : 'none';\n",
              "\n",
              "        async function convertToInteractive(key) {\n",
              "          const element = document.querySelector('#df-b5012719-203a-4a85-b371-15327b7741b7');\n",
              "          const dataTable =\n",
              "            await google.colab.kernel.invokeFunction('convertToInteractive',\n",
              "                                                     [key], {});\n",
              "          if (!dataTable) return;\n",
              "\n",
              "          const docLinkHtml = 'Like what you see? Visit the ' +\n",
              "            '<a target=\"_blank\" href=https://colab.research.google.com/notebooks/data_table.ipynb>data table notebook</a>'\n",
              "            + ' to learn more about interactive tables.';\n",
              "          element.innerHTML = '';\n",
              "          dataTable['output_type'] = 'display_data';\n",
              "          await google.colab.output.renderOutput(dataTable, element);\n",
              "          const docLink = document.createElement('div');\n",
              "          docLink.innerHTML = docLinkHtml;\n",
              "          element.appendChild(docLink);\n",
              "        }\n",
              "      </script>\n",
              "    </div>\n",
              "  </div>\n",
              "  "
            ]
          },
          "metadata": {},
          "execution_count": 76
        }
      ]
    },
    {
      "cell_type": "code",
      "source": [
        "# Drop column B as it is now encoded\n",
        "df_he = df_he.drop('Occupation',axis = 1)\n",
        "df_he"
      ],
      "metadata": {
        "colab": {
          "base_uri": "https://localhost:8080/",
          "height": 488
        },
        "id": "zbM3CUcUA-6I",
        "outputId": "72835532-36b5-43d3-9552-7aee22f87a38"
      },
      "execution_count": null,
      "outputs": [
        {
          "output_type": "execute_result",
          "data": {
            "text/plain": [
              "      HEID  Loan_Amount  Mort_Bal  Home_Val  Reason_HE   YOJ  Num_Derog  \\\n",
              "5        6         1700   30548.0   40320.0          0   9.0        0.0   \n",
              "7        8         1800   28502.0   43034.0          0  11.0        0.0   \n",
              "19      20         2300  102370.0  120953.0          0   2.0        0.0   \n",
              "25      26         2400   34863.0   47471.0          0  12.0        0.0   \n",
              "26      27         2400   98449.0  117195.0          0   4.0        0.0   \n",
              "...    ...          ...       ...       ...        ...   ...        ...   \n",
              "5959  5956        88900   57264.0   90185.0          1  16.0        0.0   \n",
              "5960  5957        89000   54576.0   92937.0          1  16.0        0.0   \n",
              "5961  5958        89200   54045.0   92924.0          1  15.0        0.0   \n",
              "5962  5959        89800   50370.0   91861.0          1  14.0        0.0   \n",
              "5963  5960        89900   48811.0   88934.0          1  15.0        0.0   \n",
              "\n",
              "      Num_Delinq      CL_Age  Num_Inq  Num_CL   Debt_Inc  Default  \n",
              "5            0.0  101.466002      1.0     8.0  37.113614      1.0  \n",
              "7            0.0   88.766030      0.0     8.0  36.884894      1.0  \n",
              "19           0.0   90.992533      0.0    13.0  31.588503      0.0  \n",
              "25           0.0   70.491080      1.0    21.0  38.263601      1.0  \n",
              "26           0.0   93.811775      0.0    13.0  29.681827      0.0  \n",
              "...          ...         ...      ...     ...        ...      ...  \n",
              "5959         0.0  221.808718      0.0    16.0  36.112347      0.0  \n",
              "5960         0.0  208.692070      0.0    15.0  35.859971      0.0  \n",
              "5961         0.0  212.279697      0.0    15.0  35.556590      0.0  \n",
              "5962         0.0  213.892709      0.0    16.0  34.340882      0.0  \n",
              "5963         0.0  219.601002      0.0    16.0  34.571519      0.0  \n",
              "\n",
              "[3365 rows x 13 columns]"
            ],
            "text/html": [
              "\n",
              "  <div id=\"df-cdb3200e-e88a-4ed2-b4b2-3de3986af5b0\">\n",
              "    <div class=\"colab-df-container\">\n",
              "      <div>\n",
              "<style scoped>\n",
              "    .dataframe tbody tr th:only-of-type {\n",
              "        vertical-align: middle;\n",
              "    }\n",
              "\n",
              "    .dataframe tbody tr th {\n",
              "        vertical-align: top;\n",
              "    }\n",
              "\n",
              "    .dataframe thead th {\n",
              "        text-align: right;\n",
              "    }\n",
              "</style>\n",
              "<table border=\"1\" class=\"dataframe\">\n",
              "  <thead>\n",
              "    <tr style=\"text-align: right;\">\n",
              "      <th></th>\n",
              "      <th>HEID</th>\n",
              "      <th>Loan_Amount</th>\n",
              "      <th>Mort_Bal</th>\n",
              "      <th>Home_Val</th>\n",
              "      <th>Reason_HE</th>\n",
              "      <th>YOJ</th>\n",
              "      <th>Num_Derog</th>\n",
              "      <th>Num_Delinq</th>\n",
              "      <th>CL_Age</th>\n",
              "      <th>Num_Inq</th>\n",
              "      <th>Num_CL</th>\n",
              "      <th>Debt_Inc</th>\n",
              "      <th>Default</th>\n",
              "    </tr>\n",
              "  </thead>\n",
              "  <tbody>\n",
              "    <tr>\n",
              "      <th>5</th>\n",
              "      <td>6</td>\n",
              "      <td>1700</td>\n",
              "      <td>30548.0</td>\n",
              "      <td>40320.0</td>\n",
              "      <td>0</td>\n",
              "      <td>9.0</td>\n",
              "      <td>0.0</td>\n",
              "      <td>0.0</td>\n",
              "      <td>101.466002</td>\n",
              "      <td>1.0</td>\n",
              "      <td>8.0</td>\n",
              "      <td>37.113614</td>\n",
              "      <td>1.0</td>\n",
              "    </tr>\n",
              "    <tr>\n",
              "      <th>7</th>\n",
              "      <td>8</td>\n",
              "      <td>1800</td>\n",
              "      <td>28502.0</td>\n",
              "      <td>43034.0</td>\n",
              "      <td>0</td>\n",
              "      <td>11.0</td>\n",
              "      <td>0.0</td>\n",
              "      <td>0.0</td>\n",
              "      <td>88.766030</td>\n",
              "      <td>0.0</td>\n",
              "      <td>8.0</td>\n",
              "      <td>36.884894</td>\n",
              "      <td>1.0</td>\n",
              "    </tr>\n",
              "    <tr>\n",
              "      <th>19</th>\n",
              "      <td>20</td>\n",
              "      <td>2300</td>\n",
              "      <td>102370.0</td>\n",
              "      <td>120953.0</td>\n",
              "      <td>0</td>\n",
              "      <td>2.0</td>\n",
              "      <td>0.0</td>\n",
              "      <td>0.0</td>\n",
              "      <td>90.992533</td>\n",
              "      <td>0.0</td>\n",
              "      <td>13.0</td>\n",
              "      <td>31.588503</td>\n",
              "      <td>0.0</td>\n",
              "    </tr>\n",
              "    <tr>\n",
              "      <th>25</th>\n",
              "      <td>26</td>\n",
              "      <td>2400</td>\n",
              "      <td>34863.0</td>\n",
              "      <td>47471.0</td>\n",
              "      <td>0</td>\n",
              "      <td>12.0</td>\n",
              "      <td>0.0</td>\n",
              "      <td>0.0</td>\n",
              "      <td>70.491080</td>\n",
              "      <td>1.0</td>\n",
              "      <td>21.0</td>\n",
              "      <td>38.263601</td>\n",
              "      <td>1.0</td>\n",
              "    </tr>\n",
              "    <tr>\n",
              "      <th>26</th>\n",
              "      <td>27</td>\n",
              "      <td>2400</td>\n",
              "      <td>98449.0</td>\n",
              "      <td>117195.0</td>\n",
              "      <td>0</td>\n",
              "      <td>4.0</td>\n",
              "      <td>0.0</td>\n",
              "      <td>0.0</td>\n",
              "      <td>93.811775</td>\n",
              "      <td>0.0</td>\n",
              "      <td>13.0</td>\n",
              "      <td>29.681827</td>\n",
              "      <td>0.0</td>\n",
              "    </tr>\n",
              "    <tr>\n",
              "      <th>...</th>\n",
              "      <td>...</td>\n",
              "      <td>...</td>\n",
              "      <td>...</td>\n",
              "      <td>...</td>\n",
              "      <td>...</td>\n",
              "      <td>...</td>\n",
              "      <td>...</td>\n",
              "      <td>...</td>\n",
              "      <td>...</td>\n",
              "      <td>...</td>\n",
              "      <td>...</td>\n",
              "      <td>...</td>\n",
              "      <td>...</td>\n",
              "    </tr>\n",
              "    <tr>\n",
              "      <th>5959</th>\n",
              "      <td>5956</td>\n",
              "      <td>88900</td>\n",
              "      <td>57264.0</td>\n",
              "      <td>90185.0</td>\n",
              "      <td>1</td>\n",
              "      <td>16.0</td>\n",
              "      <td>0.0</td>\n",
              "      <td>0.0</td>\n",
              "      <td>221.808718</td>\n",
              "      <td>0.0</td>\n",
              "      <td>16.0</td>\n",
              "      <td>36.112347</td>\n",
              "      <td>0.0</td>\n",
              "    </tr>\n",
              "    <tr>\n",
              "      <th>5960</th>\n",
              "      <td>5957</td>\n",
              "      <td>89000</td>\n",
              "      <td>54576.0</td>\n",
              "      <td>92937.0</td>\n",
              "      <td>1</td>\n",
              "      <td>16.0</td>\n",
              "      <td>0.0</td>\n",
              "      <td>0.0</td>\n",
              "      <td>208.692070</td>\n",
              "      <td>0.0</td>\n",
              "      <td>15.0</td>\n",
              "      <td>35.859971</td>\n",
              "      <td>0.0</td>\n",
              "    </tr>\n",
              "    <tr>\n",
              "      <th>5961</th>\n",
              "      <td>5958</td>\n",
              "      <td>89200</td>\n",
              "      <td>54045.0</td>\n",
              "      <td>92924.0</td>\n",
              "      <td>1</td>\n",
              "      <td>15.0</td>\n",
              "      <td>0.0</td>\n",
              "      <td>0.0</td>\n",
              "      <td>212.279697</td>\n",
              "      <td>0.0</td>\n",
              "      <td>15.0</td>\n",
              "      <td>35.556590</td>\n",
              "      <td>0.0</td>\n",
              "    </tr>\n",
              "    <tr>\n",
              "      <th>5962</th>\n",
              "      <td>5959</td>\n",
              "      <td>89800</td>\n",
              "      <td>50370.0</td>\n",
              "      <td>91861.0</td>\n",
              "      <td>1</td>\n",
              "      <td>14.0</td>\n",
              "      <td>0.0</td>\n",
              "      <td>0.0</td>\n",
              "      <td>213.892709</td>\n",
              "      <td>0.0</td>\n",
              "      <td>16.0</td>\n",
              "      <td>34.340882</td>\n",
              "      <td>0.0</td>\n",
              "    </tr>\n",
              "    <tr>\n",
              "      <th>5963</th>\n",
              "      <td>5960</td>\n",
              "      <td>89900</td>\n",
              "      <td>48811.0</td>\n",
              "      <td>88934.0</td>\n",
              "      <td>1</td>\n",
              "      <td>15.0</td>\n",
              "      <td>0.0</td>\n",
              "      <td>0.0</td>\n",
              "      <td>219.601002</td>\n",
              "      <td>0.0</td>\n",
              "      <td>16.0</td>\n",
              "      <td>34.571519</td>\n",
              "      <td>0.0</td>\n",
              "    </tr>\n",
              "  </tbody>\n",
              "</table>\n",
              "<p>3365 rows × 13 columns</p>\n",
              "</div>\n",
              "      <button class=\"colab-df-convert\" onclick=\"convertToInteractive('df-cdb3200e-e88a-4ed2-b4b2-3de3986af5b0')\"\n",
              "              title=\"Convert this dataframe to an interactive table.\"\n",
              "              style=\"display:none;\">\n",
              "        \n",
              "  <svg xmlns=\"http://www.w3.org/2000/svg\" height=\"24px\"viewBox=\"0 0 24 24\"\n",
              "       width=\"24px\">\n",
              "    <path d=\"M0 0h24v24H0V0z\" fill=\"none\"/>\n",
              "    <path d=\"M18.56 5.44l.94 2.06.94-2.06 2.06-.94-2.06-.94-.94-2.06-.94 2.06-2.06.94zm-11 1L8.5 8.5l.94-2.06 2.06-.94-2.06-.94L8.5 2.5l-.94 2.06-2.06.94zm10 10l.94 2.06.94-2.06 2.06-.94-2.06-.94-.94-2.06-.94 2.06-2.06.94z\"/><path d=\"M17.41 7.96l-1.37-1.37c-.4-.4-.92-.59-1.43-.59-.52 0-1.04.2-1.43.59L10.3 9.45l-7.72 7.72c-.78.78-.78 2.05 0 2.83L4 21.41c.39.39.9.59 1.41.59.51 0 1.02-.2 1.41-.59l7.78-7.78 2.81-2.81c.8-.78.8-2.07 0-2.86zM5.41 20L4 18.59l7.72-7.72 1.47 1.35L5.41 20z\"/>\n",
              "  </svg>\n",
              "      </button>\n",
              "      \n",
              "  <style>\n",
              "    .colab-df-container {\n",
              "      display:flex;\n",
              "      flex-wrap:wrap;\n",
              "      gap: 12px;\n",
              "    }\n",
              "\n",
              "    .colab-df-convert {\n",
              "      background-color: #E8F0FE;\n",
              "      border: none;\n",
              "      border-radius: 50%;\n",
              "      cursor: pointer;\n",
              "      display: none;\n",
              "      fill: #1967D2;\n",
              "      height: 32px;\n",
              "      padding: 0 0 0 0;\n",
              "      width: 32px;\n",
              "    }\n",
              "\n",
              "    .colab-df-convert:hover {\n",
              "      background-color: #E2EBFA;\n",
              "      box-shadow: 0px 1px 2px rgba(60, 64, 67, 0.3), 0px 1px 3px 1px rgba(60, 64, 67, 0.15);\n",
              "      fill: #174EA6;\n",
              "    }\n",
              "\n",
              "    [theme=dark] .colab-df-convert {\n",
              "      background-color: #3B4455;\n",
              "      fill: #D2E3FC;\n",
              "    }\n",
              "\n",
              "    [theme=dark] .colab-df-convert:hover {\n",
              "      background-color: #434B5C;\n",
              "      box-shadow: 0px 1px 3px 1px rgba(0, 0, 0, 0.15);\n",
              "      filter: drop-shadow(0px 1px 2px rgba(0, 0, 0, 0.3));\n",
              "      fill: #FFFFFF;\n",
              "    }\n",
              "  </style>\n",
              "\n",
              "      <script>\n",
              "        const buttonEl =\n",
              "          document.querySelector('#df-cdb3200e-e88a-4ed2-b4b2-3de3986af5b0 button.colab-df-convert');\n",
              "        buttonEl.style.display =\n",
              "          google.colab.kernel.accessAllowed ? 'block' : 'none';\n",
              "\n",
              "        async function convertToInteractive(key) {\n",
              "          const element = document.querySelector('#df-cdb3200e-e88a-4ed2-b4b2-3de3986af5b0');\n",
              "          const dataTable =\n",
              "            await google.colab.kernel.invokeFunction('convertToInteractive',\n",
              "                                                     [key], {});\n",
              "          if (!dataTable) return;\n",
              "\n",
              "          const docLinkHtml = 'Like what you see? Visit the ' +\n",
              "            '<a target=\"_blank\" href=https://colab.research.google.com/notebooks/data_table.ipynb>data table notebook</a>'\n",
              "            + ' to learn more about interactive tables.';\n",
              "          element.innerHTML = '';\n",
              "          dataTable['output_type'] = 'display_data';\n",
              "          await google.colab.output.renderOutput(dataTable, element);\n",
              "          const docLink = document.createElement('div');\n",
              "          docLink.innerHTML = docLinkHtml;\n",
              "          element.appendChild(docLink);\n",
              "        }\n",
              "      </script>\n",
              "    </div>\n",
              "  </div>\n",
              "  "
            ]
          },
          "metadata": {},
          "execution_count": 77
        }
      ]
    },
    {
      "cell_type": "code",
      "source": [
        "# Join the encoded df\n",
        "df_he = df_he.join(one_hot)\n",
        "df_he  "
      ],
      "metadata": {
        "colab": {
          "base_uri": "https://localhost:8080/",
          "height": 488
        },
        "id": "3C9pheFf9DjP",
        "outputId": "d4092235-ee0e-4595-b0d0-af3172c5f2a6"
      },
      "execution_count": null,
      "outputs": [
        {
          "output_type": "execute_result",
          "data": {
            "text/plain": [
              "      HEID  Loan_Amount  Mort_Bal  Home_Val  Reason_HE   YOJ  Num_Derog  \\\n",
              "5        6         1700   30548.0   40320.0          0   9.0        0.0   \n",
              "7        8         1800   28502.0   43034.0          0  11.0        0.0   \n",
              "19      20         2300  102370.0  120953.0          0   2.0        0.0   \n",
              "25      26         2400   34863.0   47471.0          0  12.0        0.0   \n",
              "26      27         2400   98449.0  117195.0          0   4.0        0.0   \n",
              "...    ...          ...       ...       ...        ...   ...        ...   \n",
              "5959  5956        88900   57264.0   90185.0          1  16.0        0.0   \n",
              "5960  5957        89000   54576.0   92937.0          1  16.0        0.0   \n",
              "5961  5958        89200   54045.0   92924.0          1  15.0        0.0   \n",
              "5962  5959        89800   50370.0   91861.0          1  14.0        0.0   \n",
              "5963  5960        89900   48811.0   88934.0          1  15.0        0.0   \n",
              "\n",
              "      Num_Delinq      CL_Age  Num_Inq  Num_CL   Debt_Inc  Default  Mgr  \\\n",
              "5            0.0  101.466002      1.0     8.0  37.113614      1.0    0   \n",
              "7            0.0   88.766030      0.0     8.0  36.884894      1.0    0   \n",
              "19           0.0   90.992533      0.0    13.0  31.588503      0.0    0   \n",
              "25           0.0   70.491080      1.0    21.0  38.263601      1.0    1   \n",
              "26           0.0   93.811775      0.0    13.0  29.681827      0.0    0   \n",
              "...          ...         ...      ...     ...        ...      ...  ...   \n",
              "5959         0.0  221.808718      0.0    16.0  36.112347      0.0    0   \n",
              "5960         0.0  208.692070      0.0    15.0  35.859971      0.0    0   \n",
              "5961         0.0  212.279697      0.0    15.0  35.556590      0.0    0   \n",
              "5962         0.0  213.892709      0.0    16.0  34.340882      0.0    0   \n",
              "5963         0.0  219.601002      0.0    16.0  34.571519      0.0    0   \n",
              "\n",
              "      Office  Other  ProfExe  Sales  Self  \n",
              "5          0      1        0      0     0  \n",
              "7          0      1        0      0     0  \n",
              "19         1      0        0      0     0  \n",
              "25         0      0        0      0     0  \n",
              "26         1      0        0      0     0  \n",
              "...      ...    ...      ...    ...   ...  \n",
              "5959       0      1        0      0     0  \n",
              "5960       0      1        0      0     0  \n",
              "5961       0      1        0      0     0  \n",
              "5962       0      1        0      0     0  \n",
              "5963       0      1        0      0     0  \n",
              "\n",
              "[3365 rows x 19 columns]"
            ],
            "text/html": [
              "\n",
              "  <div id=\"df-44f94b2f-3188-48f2-a07b-9a202ddee8f7\">\n",
              "    <div class=\"colab-df-container\">\n",
              "      <div>\n",
              "<style scoped>\n",
              "    .dataframe tbody tr th:only-of-type {\n",
              "        vertical-align: middle;\n",
              "    }\n",
              "\n",
              "    .dataframe tbody tr th {\n",
              "        vertical-align: top;\n",
              "    }\n",
              "\n",
              "    .dataframe thead th {\n",
              "        text-align: right;\n",
              "    }\n",
              "</style>\n",
              "<table border=\"1\" class=\"dataframe\">\n",
              "  <thead>\n",
              "    <tr style=\"text-align: right;\">\n",
              "      <th></th>\n",
              "      <th>HEID</th>\n",
              "      <th>Loan_Amount</th>\n",
              "      <th>Mort_Bal</th>\n",
              "      <th>Home_Val</th>\n",
              "      <th>Reason_HE</th>\n",
              "      <th>YOJ</th>\n",
              "      <th>Num_Derog</th>\n",
              "      <th>Num_Delinq</th>\n",
              "      <th>CL_Age</th>\n",
              "      <th>Num_Inq</th>\n",
              "      <th>Num_CL</th>\n",
              "      <th>Debt_Inc</th>\n",
              "      <th>Default</th>\n",
              "      <th>Mgr</th>\n",
              "      <th>Office</th>\n",
              "      <th>Other</th>\n",
              "      <th>ProfExe</th>\n",
              "      <th>Sales</th>\n",
              "      <th>Self</th>\n",
              "    </tr>\n",
              "  </thead>\n",
              "  <tbody>\n",
              "    <tr>\n",
              "      <th>5</th>\n",
              "      <td>6</td>\n",
              "      <td>1700</td>\n",
              "      <td>30548.0</td>\n",
              "      <td>40320.0</td>\n",
              "      <td>0</td>\n",
              "      <td>9.0</td>\n",
              "      <td>0.0</td>\n",
              "      <td>0.0</td>\n",
              "      <td>101.466002</td>\n",
              "      <td>1.0</td>\n",
              "      <td>8.0</td>\n",
              "      <td>37.113614</td>\n",
              "      <td>1.0</td>\n",
              "      <td>0</td>\n",
              "      <td>0</td>\n",
              "      <td>1</td>\n",
              "      <td>0</td>\n",
              "      <td>0</td>\n",
              "      <td>0</td>\n",
              "    </tr>\n",
              "    <tr>\n",
              "      <th>7</th>\n",
              "      <td>8</td>\n",
              "      <td>1800</td>\n",
              "      <td>28502.0</td>\n",
              "      <td>43034.0</td>\n",
              "      <td>0</td>\n",
              "      <td>11.0</td>\n",
              "      <td>0.0</td>\n",
              "      <td>0.0</td>\n",
              "      <td>88.766030</td>\n",
              "      <td>0.0</td>\n",
              "      <td>8.0</td>\n",
              "      <td>36.884894</td>\n",
              "      <td>1.0</td>\n",
              "      <td>0</td>\n",
              "      <td>0</td>\n",
              "      <td>1</td>\n",
              "      <td>0</td>\n",
              "      <td>0</td>\n",
              "      <td>0</td>\n",
              "    </tr>\n",
              "    <tr>\n",
              "      <th>19</th>\n",
              "      <td>20</td>\n",
              "      <td>2300</td>\n",
              "      <td>102370.0</td>\n",
              "      <td>120953.0</td>\n",
              "      <td>0</td>\n",
              "      <td>2.0</td>\n",
              "      <td>0.0</td>\n",
              "      <td>0.0</td>\n",
              "      <td>90.992533</td>\n",
              "      <td>0.0</td>\n",
              "      <td>13.0</td>\n",
              "      <td>31.588503</td>\n",
              "      <td>0.0</td>\n",
              "      <td>0</td>\n",
              "      <td>1</td>\n",
              "      <td>0</td>\n",
              "      <td>0</td>\n",
              "      <td>0</td>\n",
              "      <td>0</td>\n",
              "    </tr>\n",
              "    <tr>\n",
              "      <th>25</th>\n",
              "      <td>26</td>\n",
              "      <td>2400</td>\n",
              "      <td>34863.0</td>\n",
              "      <td>47471.0</td>\n",
              "      <td>0</td>\n",
              "      <td>12.0</td>\n",
              "      <td>0.0</td>\n",
              "      <td>0.0</td>\n",
              "      <td>70.491080</td>\n",
              "      <td>1.0</td>\n",
              "      <td>21.0</td>\n",
              "      <td>38.263601</td>\n",
              "      <td>1.0</td>\n",
              "      <td>1</td>\n",
              "      <td>0</td>\n",
              "      <td>0</td>\n",
              "      <td>0</td>\n",
              "      <td>0</td>\n",
              "      <td>0</td>\n",
              "    </tr>\n",
              "    <tr>\n",
              "      <th>26</th>\n",
              "      <td>27</td>\n",
              "      <td>2400</td>\n",
              "      <td>98449.0</td>\n",
              "      <td>117195.0</td>\n",
              "      <td>0</td>\n",
              "      <td>4.0</td>\n",
              "      <td>0.0</td>\n",
              "      <td>0.0</td>\n",
              "      <td>93.811775</td>\n",
              "      <td>0.0</td>\n",
              "      <td>13.0</td>\n",
              "      <td>29.681827</td>\n",
              "      <td>0.0</td>\n",
              "      <td>0</td>\n",
              "      <td>1</td>\n",
              "      <td>0</td>\n",
              "      <td>0</td>\n",
              "      <td>0</td>\n",
              "      <td>0</td>\n",
              "    </tr>\n",
              "    <tr>\n",
              "      <th>...</th>\n",
              "      <td>...</td>\n",
              "      <td>...</td>\n",
              "      <td>...</td>\n",
              "      <td>...</td>\n",
              "      <td>...</td>\n",
              "      <td>...</td>\n",
              "      <td>...</td>\n",
              "      <td>...</td>\n",
              "      <td>...</td>\n",
              "      <td>...</td>\n",
              "      <td>...</td>\n",
              "      <td>...</td>\n",
              "      <td>...</td>\n",
              "      <td>...</td>\n",
              "      <td>...</td>\n",
              "      <td>...</td>\n",
              "      <td>...</td>\n",
              "      <td>...</td>\n",
              "      <td>...</td>\n",
              "    </tr>\n",
              "    <tr>\n",
              "      <th>5959</th>\n",
              "      <td>5956</td>\n",
              "      <td>88900</td>\n",
              "      <td>57264.0</td>\n",
              "      <td>90185.0</td>\n",
              "      <td>1</td>\n",
              "      <td>16.0</td>\n",
              "      <td>0.0</td>\n",
              "      <td>0.0</td>\n",
              "      <td>221.808718</td>\n",
              "      <td>0.0</td>\n",
              "      <td>16.0</td>\n",
              "      <td>36.112347</td>\n",
              "      <td>0.0</td>\n",
              "      <td>0</td>\n",
              "      <td>0</td>\n",
              "      <td>1</td>\n",
              "      <td>0</td>\n",
              "      <td>0</td>\n",
              "      <td>0</td>\n",
              "    </tr>\n",
              "    <tr>\n",
              "      <th>5960</th>\n",
              "      <td>5957</td>\n",
              "      <td>89000</td>\n",
              "      <td>54576.0</td>\n",
              "      <td>92937.0</td>\n",
              "      <td>1</td>\n",
              "      <td>16.0</td>\n",
              "      <td>0.0</td>\n",
              "      <td>0.0</td>\n",
              "      <td>208.692070</td>\n",
              "      <td>0.0</td>\n",
              "      <td>15.0</td>\n",
              "      <td>35.859971</td>\n",
              "      <td>0.0</td>\n",
              "      <td>0</td>\n",
              "      <td>0</td>\n",
              "      <td>1</td>\n",
              "      <td>0</td>\n",
              "      <td>0</td>\n",
              "      <td>0</td>\n",
              "    </tr>\n",
              "    <tr>\n",
              "      <th>5961</th>\n",
              "      <td>5958</td>\n",
              "      <td>89200</td>\n",
              "      <td>54045.0</td>\n",
              "      <td>92924.0</td>\n",
              "      <td>1</td>\n",
              "      <td>15.0</td>\n",
              "      <td>0.0</td>\n",
              "      <td>0.0</td>\n",
              "      <td>212.279697</td>\n",
              "      <td>0.0</td>\n",
              "      <td>15.0</td>\n",
              "      <td>35.556590</td>\n",
              "      <td>0.0</td>\n",
              "      <td>0</td>\n",
              "      <td>0</td>\n",
              "      <td>1</td>\n",
              "      <td>0</td>\n",
              "      <td>0</td>\n",
              "      <td>0</td>\n",
              "    </tr>\n",
              "    <tr>\n",
              "      <th>5962</th>\n",
              "      <td>5959</td>\n",
              "      <td>89800</td>\n",
              "      <td>50370.0</td>\n",
              "      <td>91861.0</td>\n",
              "      <td>1</td>\n",
              "      <td>14.0</td>\n",
              "      <td>0.0</td>\n",
              "      <td>0.0</td>\n",
              "      <td>213.892709</td>\n",
              "      <td>0.0</td>\n",
              "      <td>16.0</td>\n",
              "      <td>34.340882</td>\n",
              "      <td>0.0</td>\n",
              "      <td>0</td>\n",
              "      <td>0</td>\n",
              "      <td>1</td>\n",
              "      <td>0</td>\n",
              "      <td>0</td>\n",
              "      <td>0</td>\n",
              "    </tr>\n",
              "    <tr>\n",
              "      <th>5963</th>\n",
              "      <td>5960</td>\n",
              "      <td>89900</td>\n",
              "      <td>48811.0</td>\n",
              "      <td>88934.0</td>\n",
              "      <td>1</td>\n",
              "      <td>15.0</td>\n",
              "      <td>0.0</td>\n",
              "      <td>0.0</td>\n",
              "      <td>219.601002</td>\n",
              "      <td>0.0</td>\n",
              "      <td>16.0</td>\n",
              "      <td>34.571519</td>\n",
              "      <td>0.0</td>\n",
              "      <td>0</td>\n",
              "      <td>0</td>\n",
              "      <td>1</td>\n",
              "      <td>0</td>\n",
              "      <td>0</td>\n",
              "      <td>0</td>\n",
              "    </tr>\n",
              "  </tbody>\n",
              "</table>\n",
              "<p>3365 rows × 19 columns</p>\n",
              "</div>\n",
              "      <button class=\"colab-df-convert\" onclick=\"convertToInteractive('df-44f94b2f-3188-48f2-a07b-9a202ddee8f7')\"\n",
              "              title=\"Convert this dataframe to an interactive table.\"\n",
              "              style=\"display:none;\">\n",
              "        \n",
              "  <svg xmlns=\"http://www.w3.org/2000/svg\" height=\"24px\"viewBox=\"0 0 24 24\"\n",
              "       width=\"24px\">\n",
              "    <path d=\"M0 0h24v24H0V0z\" fill=\"none\"/>\n",
              "    <path d=\"M18.56 5.44l.94 2.06.94-2.06 2.06-.94-2.06-.94-.94-2.06-.94 2.06-2.06.94zm-11 1L8.5 8.5l.94-2.06 2.06-.94-2.06-.94L8.5 2.5l-.94 2.06-2.06.94zm10 10l.94 2.06.94-2.06 2.06-.94-2.06-.94-.94-2.06-.94 2.06-2.06.94z\"/><path d=\"M17.41 7.96l-1.37-1.37c-.4-.4-.92-.59-1.43-.59-.52 0-1.04.2-1.43.59L10.3 9.45l-7.72 7.72c-.78.78-.78 2.05 0 2.83L4 21.41c.39.39.9.59 1.41.59.51 0 1.02-.2 1.41-.59l7.78-7.78 2.81-2.81c.8-.78.8-2.07 0-2.86zM5.41 20L4 18.59l7.72-7.72 1.47 1.35L5.41 20z\"/>\n",
              "  </svg>\n",
              "      </button>\n",
              "      \n",
              "  <style>\n",
              "    .colab-df-container {\n",
              "      display:flex;\n",
              "      flex-wrap:wrap;\n",
              "      gap: 12px;\n",
              "    }\n",
              "\n",
              "    .colab-df-convert {\n",
              "      background-color: #E8F0FE;\n",
              "      border: none;\n",
              "      border-radius: 50%;\n",
              "      cursor: pointer;\n",
              "      display: none;\n",
              "      fill: #1967D2;\n",
              "      height: 32px;\n",
              "      padding: 0 0 0 0;\n",
              "      width: 32px;\n",
              "    }\n",
              "\n",
              "    .colab-df-convert:hover {\n",
              "      background-color: #E2EBFA;\n",
              "      box-shadow: 0px 1px 2px rgba(60, 64, 67, 0.3), 0px 1px 3px 1px rgba(60, 64, 67, 0.15);\n",
              "      fill: #174EA6;\n",
              "    }\n",
              "\n",
              "    [theme=dark] .colab-df-convert {\n",
              "      background-color: #3B4455;\n",
              "      fill: #D2E3FC;\n",
              "    }\n",
              "\n",
              "    [theme=dark] .colab-df-convert:hover {\n",
              "      background-color: #434B5C;\n",
              "      box-shadow: 0px 1px 3px 1px rgba(0, 0, 0, 0.15);\n",
              "      filter: drop-shadow(0px 1px 2px rgba(0, 0, 0, 0.3));\n",
              "      fill: #FFFFFF;\n",
              "    }\n",
              "  </style>\n",
              "\n",
              "      <script>\n",
              "        const buttonEl =\n",
              "          document.querySelector('#df-44f94b2f-3188-48f2-a07b-9a202ddee8f7 button.colab-df-convert');\n",
              "        buttonEl.style.display =\n",
              "          google.colab.kernel.accessAllowed ? 'block' : 'none';\n",
              "\n",
              "        async function convertToInteractive(key) {\n",
              "          const element = document.querySelector('#df-44f94b2f-3188-48f2-a07b-9a202ddee8f7');\n",
              "          const dataTable =\n",
              "            await google.colab.kernel.invokeFunction('convertToInteractive',\n",
              "                                                     [key], {});\n",
              "          if (!dataTable) return;\n",
              "\n",
              "          const docLinkHtml = 'Like what you see? Visit the ' +\n",
              "            '<a target=\"_blank\" href=https://colab.research.google.com/notebooks/data_table.ipynb>data table notebook</a>'\n",
              "            + ' to learn more about interactive tables.';\n",
              "          element.innerHTML = '';\n",
              "          dataTable['output_type'] = 'display_data';\n",
              "          await google.colab.output.renderOutput(dataTable, element);\n",
              "          const docLink = document.createElement('div');\n",
              "          docLink.innerHTML = docLinkHtml;\n",
              "          element.appendChild(docLink);\n",
              "        }\n",
              "      </script>\n",
              "    </div>\n",
              "  </div>\n",
              "  "
            ]
          },
          "metadata": {},
          "execution_count": 78
        }
      ]
    },
    {
      "cell_type": "markdown",
      "source": [
        "#Data Imbalance Check"
      ],
      "metadata": {
        "id": "HqcS4yagZN7L"
      }
    },
    {
      "cell_type": "code",
      "source": [
        "sns.factorplot(x=\"Default\", \n",
        "                    data=df_he, kind=\"count\")"
      ],
      "metadata": {
        "colab": {
          "base_uri": "https://localhost:8080/",
          "height": 443
        },
        "id": "vx3ZHR6u9De-",
        "outputId": "7f33f573-63da-4d8d-da31-7e7eedbea42e"
      },
      "execution_count": null,
      "outputs": [
        {
          "output_type": "stream",
          "name": "stderr",
          "text": [
            "/usr/local/lib/python3.7/dist-packages/seaborn/categorical.py:3717: UserWarning: The `factorplot` function has been renamed to `catplot`. The original name will be removed in a future release. Please update your code. Note that the default `kind` in `factorplot` (`'point'`) has changed `'strip'` in `catplot`.\n",
            "  warnings.warn(msg)\n"
          ]
        },
        {
          "output_type": "execute_result",
          "data": {
            "text/plain": [
              "<seaborn.axisgrid.FacetGrid at 0x7f577e29fc90>"
            ]
          },
          "metadata": {},
          "execution_count": 79
        },
        {
          "output_type": "display_data",
          "data": {
            "text/plain": [
              "<Figure size 360x360 with 1 Axes>"
            ],
            "image/png": "[encoded data removed]"
          },
          "metadata": {
            "needs_background": "light"
          }
        }
      ]
    },
    {
      "cell_type": "markdown",
      "source": [
        "# Correlation "
      ],
      "metadata": {
        "id": "kSb0o4AVZJ7T"
      }
    },
    {
      "cell_type": "code",
      "source": [
        "#Identifying Redundant Variables\n",
        "df_he.iloc[:,np.r_[1:16]].corr()"
      ],
      "metadata": {
        "colab": {
          "base_uri": "https://localhost:8080/",
          "height": 584
        },
        "id": "K3mY7ObnCUYh",
        "outputId": "1062be59-b973-4c16-9703-a3524c64d1ec"
      },
      "execution_count": null,
      "outputs": [
        {
          "output_type": "execute_result",
          "data": {
            "text/plain": [
              "             Loan_Amount  Mort_Bal  Home_Val  Reason_HE       YOJ  Num_Derog  \\\n",
              "Loan_Amount     1.000000  0.272916  0.378722   0.177364  0.076368  -0.024258   \n",
              "Mort_Bal        0.272916  1.000000  0.865259  -0.005490 -0.103373  -0.042609   \n",
              "Home_Val        0.378722  0.865259  1.000000  -0.038874 -0.021125  -0.045913   \n",
              "Reason_HE       0.177364 -0.005490 -0.038874   1.000000 -0.083357   0.004740   \n",
              "YOJ             0.076368 -0.103373 -0.021125  -0.083357  1.000000  -0.055733   \n",
              "Num_Derog      -0.024258 -0.042609 -0.045913   0.004740 -0.055733   1.000000   \n",
              "Num_Delinq     -0.067460 -0.035929 -0.068419  -0.023617  0.022081   0.147847   \n",
              "CL_Age          0.066380  0.137814  0.197567  -0.065289  0.229531  -0.053874   \n",
              "Num_Inq         0.051226  0.036516 -0.006857   0.135222 -0.046248   0.181456   \n",
              "Num_CL          0.075863  0.320789  0.215451   0.049754 -0.001590   0.065816   \n",
              "Debt_Inc        0.157274  0.185500  0.130896   0.018243 -0.052378   0.035054   \n",
              "Default        -0.031233 -0.016273 -0.026128   0.004773 -0.065183   0.253084   \n",
              "Mgr             0.044203  0.061551  0.009729   0.065404  0.031779   0.025526   \n",
              "Office         -0.065604 -0.070660 -0.081201   0.009992 -0.033450  -0.032262   \n",
              "Other          -0.070553 -0.253526 -0.257281   0.029385  0.061761   0.035951   \n",
              "\n",
              "             Num_Delinq    CL_Age   Num_Inq    Num_CL  Debt_Inc   Default  \\\n",
              "Loan_Amount   -0.067460  0.066380  0.051226  0.075863  0.157274 -0.031233   \n",
              "Mort_Bal      -0.035929  0.137814  0.036516  0.320789  0.185500 -0.016273   \n",
              "Home_Val      -0.068419  0.197567 -0.006857  0.215451  0.130896 -0.026128   \n",
              "Reason_HE     -0.023617 -0.065289  0.135222  0.049754  0.018243  0.004773   \n",
              "YOJ            0.022081  0.229531 -0.046248 -0.001590 -0.052378 -0.065183   \n",
              "Num_Derog      0.147847 -0.053874  0.181456  0.065816  0.035054  0.253084   \n",
              "Num_Delinq     1.000000  0.011331  0.003393  0.122497  0.038058  0.274146   \n",
              "CL_Age         0.011331  1.000000 -0.088091  0.202230 -0.049279 -0.111398   \n",
              "Num_Inq        0.003393 -0.088091  1.000000  0.077866  0.157869  0.126694   \n",
              "Num_CL         0.122497  0.202230  0.077866  1.000000  0.144015  0.008415   \n",
              "Debt_Inc       0.038058 -0.049279  0.157869  0.144015  1.000000  0.218168   \n",
              "Default        0.274146 -0.111398  0.126694  0.008415  0.218168  1.000000   \n",
              "Mgr            0.001685 -0.017612  0.115435  0.006832  0.045318  0.014524   \n",
              "Office         0.030353 -0.024108 -0.046272  0.008704  0.020326 -0.037607   \n",
              "Other          0.002453 -0.126027  0.042633 -0.164395  0.016765  0.038305   \n",
              "\n",
              "                  Mgr    Office     Other  \n",
              "Loan_Amount  0.044203 -0.065604 -0.070553  \n",
              "Mort_Bal     0.061551 -0.070660 -0.253526  \n",
              "Home_Val     0.009729 -0.081201 -0.257281  \n",
              "Reason_HE    0.065404  0.009992  0.029385  \n",
              "YOJ          0.031779 -0.033450  0.061761  \n",
              "Num_Derog    0.025526 -0.032262  0.035951  \n",
              "Num_Delinq   0.001685  0.030353  0.002453  \n",
              "CL_Age      -0.017612 -0.024108 -0.126027  \n",
              "Num_Inq      0.115435 -0.046272  0.042633  \n",
              "Num_CL       0.006832  0.008704 -0.164395  \n",
              "Debt_Inc     0.045318  0.020326  0.016765  \n",
              "Default      0.014524 -0.037607  0.038305  \n",
              "Mgr          1.000000 -0.178743 -0.309210  \n",
              "Office      -0.178743  1.000000 -0.358021  \n",
              "Other       -0.309210 -0.358021  1.000000  "
            ],
            "text/html": [
              "\n",
              "  <div id=\"df-dfbba4e4-dba0-4851-afbe-e7a3b10807b8\">\n",
              "    <div class=\"colab-df-container\">\n",
              "      <div>\n",
              "<style scoped>\n",
              "    .dataframe tbody tr th:only-of-type {\n",
              "        vertical-align: middle;\n",
              "    }\n",
              "\n",
              "    .dataframe tbody tr th {\n",
              "        vertical-align: top;\n",
              "    }\n",
              "\n",
              "    .dataframe thead th {\n",
              "        text-align: right;\n",
              "    }\n",
              "</style>\n",
              "<table border=\"1\" class=\"dataframe\">\n",
              "  <thead>\n",
              "    <tr style=\"text-align: right;\">\n",
              "      <th></th>\n",
              "      <th>Loan_Amount</th>\n",
              "      <th>Mort_Bal</th>\n",
              "      <th>Home_Val</th>\n",
              "      <th>Reason_HE</th>\n",
              "      <th>YOJ</th>\n",
              "      <th>Num_Derog</th>\n",
              "      <th>Num_Delinq</th>\n",
              "      <th>CL_Age</th>\n",
              "      <th>Num_Inq</th>\n",
              "      <th>Num_CL</th>\n",
              "      <th>Debt_Inc</th>\n",
              "      <th>Default</th>\n",
              "      <th>Mgr</th>\n",
              "      <th>Office</th>\n",
              "      <th>Other</th>\n",
              "    </tr>\n",
              "  </thead>\n",
              "  <tbody>\n",
              "    <tr>\n",
              "      <th>Loan_Amount</th>\n",
              "      <td>1.000000</td>\n",
              "      <td>0.272916</td>\n",
              "      <td>0.378722</td>\n",
              "      <td>0.177364</td>\n",
              "      <td>0.076368</td>\n",
              "      <td>-0.024258</td>\n",
              "      <td>-0.067460</td>\n",
              "      <td>0.066380</td>\n",
              "      <td>0.051226</td>\n",
              "      <td>0.075863</td>\n",
              "      <td>0.157274</td>\n",
              "      <td>-0.031233</td>\n",
              "      <td>0.044203</td>\n",
              "      <td>-0.065604</td>\n",
              "      <td>-0.070553</td>\n",
              "    </tr>\n",
              "    <tr>\n",
              "      <th>Mort_Bal</th>\n",
              "      <td>0.272916</td>\n",
              "      <td>1.000000</td>\n",
              "      <td>0.865259</td>\n",
              "      <td>-0.005490</td>\n",
              "      <td>-0.103373</td>\n",
              "      <td>-0.042609</td>\n",
              "      <td>-0.035929</td>\n",
              "      <td>0.137814</td>\n",
              "      <td>0.036516</td>\n",
              "      <td>0.320789</td>\n",
              "      <td>0.185500</td>\n",
              "      <td>-0.016273</td>\n",
              "      <td>0.061551</td>\n",
              "      <td>-0.070660</td>\n",
              "      <td>-0.253526</td>\n",
              "    </tr>\n",
              "    <tr>\n",
              "      <th>Home_Val</th>\n",
              "      <td>0.378722</td>\n",
              "      <td>0.865259</td>\n",
              "      <td>1.000000</td>\n",
              "      <td>-0.038874</td>\n",
              "      <td>-0.021125</td>\n",
              "      <td>-0.045913</td>\n",
              "      <td>-0.068419</td>\n",
              "      <td>0.197567</td>\n",
              "      <td>-0.006857</td>\n",
              "      <td>0.215451</td>\n",
              "      <td>0.130896</td>\n",
              "      <td>-0.026128</td>\n",
              "      <td>0.009729</td>\n",
              "      <td>-0.081201</td>\n",
              "      <td>-0.257281</td>\n",
              "    </tr>\n",
              "    <tr>\n",
              "      <th>Reason_HE</th>\n",
              "      <td>0.177364</td>\n",
              "      <td>-0.005490</td>\n",
              "      <td>-0.038874</td>\n",
              "      <td>1.000000</td>\n",
              "      <td>-0.083357</td>\n",
              "      <td>0.004740</td>\n",
              "      <td>-0.023617</td>\n",
              "      <td>-0.065289</td>\n",
              "      <td>0.135222</td>\n",
              "      <td>0.049754</td>\n",
              "      <td>0.018243</td>\n",
              "      <td>0.004773</td>\n",
              "      <td>0.065404</td>\n",
              "      <td>0.009992</td>\n",
              "      <td>0.029385</td>\n",
              "    </tr>\n",
              "    <tr>\n",
              "      <th>YOJ</th>\n",
              "      <td>0.076368</td>\n",
              "      <td>-0.103373</td>\n",
              "      <td>-0.021125</td>\n",
              "      <td>-0.083357</td>\n",
              "      <td>1.000000</td>\n",
              "      <td>-0.055733</td>\n",
              "      <td>0.022081</td>\n",
              "      <td>0.229531</td>\n",
              "      <td>-0.046248</td>\n",
              "      <td>-0.001590</td>\n",
              "      <td>-0.052378</td>\n",
              "      <td>-0.065183</td>\n",
              "      <td>0.031779</td>\n",
              "      <td>-0.033450</td>\n",
              "      <td>0.061761</td>\n",
              "    </tr>\n",
              "    <tr>\n",
              "      <th>Num_Derog</th>\n",
              "      <td>-0.024258</td>\n",
              "      <td>-0.042609</td>\n",
              "      <td>-0.045913</td>\n",
              "      <td>0.004740</td>\n",
              "      <td>-0.055733</td>\n",
              "      <td>1.000000</td>\n",
              "      <td>0.147847</td>\n",
              "      <td>-0.053874</td>\n",
              "      <td>0.181456</td>\n",
              "      <td>0.065816</td>\n",
              "      <td>0.035054</td>\n",
              "      <td>0.253084</td>\n",
              "      <td>0.025526</td>\n",
              "      <td>-0.032262</td>\n",
              "      <td>0.035951</td>\n",
              "    </tr>\n",
              "    <tr>\n",
              "      <th>Num_Delinq</th>\n",
              "      <td>-0.067460</td>\n",
              "      <td>-0.035929</td>\n",
              "      <td>-0.068419</td>\n",
              "      <td>-0.023617</td>\n",
              "      <td>0.022081</td>\n",
              "      <td>0.147847</td>\n",
              "      <td>1.000000</td>\n",
              "      <td>0.011331</td>\n",
              "      <td>0.003393</td>\n",
              "      <td>0.122497</td>\n",
              "      <td>0.038058</td>\n",
              "      <td>0.274146</td>\n",
              "      <td>0.001685</td>\n",
              "      <td>0.030353</td>\n",
              "      <td>0.002453</td>\n",
              "    </tr>\n",
              "    <tr>\n",
              "      <th>CL_Age</th>\n",
              "      <td>0.066380</td>\n",
              "      <td>0.137814</td>\n",
              "      <td>0.197567</td>\n",
              "      <td>-0.065289</td>\n",
              "      <td>0.229531</td>\n",
              "      <td>-0.053874</td>\n",
              "      <td>0.011331</td>\n",
              "      <td>1.000000</td>\n",
              "      <td>-0.088091</td>\n",
              "      <td>0.202230</td>\n",
              "      <td>-0.049279</td>\n",
              "      <td>-0.111398</td>\n",
              "      <td>-0.017612</td>\n",
              "      <td>-0.024108</td>\n",
              "      <td>-0.126027</td>\n",
              "    </tr>\n",
              "    <tr>\n",
              "      <th>Num_Inq</th>\n",
              "      <td>0.051226</td>\n",
              "      <td>0.036516</td>\n",
              "      <td>-0.006857</td>\n",
              "      <td>0.135222</td>\n",
              "      <td>-0.046248</td>\n",
              "      <td>0.181456</td>\n",
              "      <td>0.003393</td>\n",
              "      <td>-0.088091</td>\n",
              "      <td>1.000000</td>\n",
              "      <td>0.077866</td>\n",
              "      <td>0.157869</td>\n",
              "      <td>0.126694</td>\n",
              "      <td>0.115435</td>\n",
              "      <td>-0.046272</td>\n",
              "      <td>0.042633</td>\n",
              "    </tr>\n",
              "    <tr>\n",
              "      <th>Num_CL</th>\n",
              "      <td>0.075863</td>\n",
              "      <td>0.320789</td>\n",
              "      <td>0.215451</td>\n",
              "      <td>0.049754</td>\n",
              "      <td>-0.001590</td>\n",
              "      <td>0.065816</td>\n",
              "      <td>0.122497</td>\n",
              "      <td>0.202230</td>\n",
              "      <td>0.077866</td>\n",
              "      <td>1.000000</td>\n",
              "      <td>0.144015</td>\n",
              "      <td>0.008415</td>\n",
              "      <td>0.006832</td>\n",
              "      <td>0.008704</td>\n",
              "      <td>-0.164395</td>\n",
              "    </tr>\n",
              "    <tr>\n",
              "      <th>Debt_Inc</th>\n",
              "      <td>0.157274</td>\n",
              "      <td>0.185500</td>\n",
              "      <td>0.130896</td>\n",
              "      <td>0.018243</td>\n",
              "      <td>-0.052378</td>\n",
              "      <td>0.035054</td>\n",
              "      <td>0.038058</td>\n",
              "      <td>-0.049279</td>\n",
              "      <td>0.157869</td>\n",
              "      <td>0.144015</td>\n",
              "      <td>1.000000</td>\n",
              "      <td>0.218168</td>\n",
              "      <td>0.045318</td>\n",
              "      <td>0.020326</td>\n",
              "      <td>0.016765</td>\n",
              "    </tr>\n",
              "    <tr>\n",
              "      <th>Default</th>\n",
              "      <td>-0.031233</td>\n",
              "      <td>-0.016273</td>\n",
              "      <td>-0.026128</td>\n",
              "      <td>0.004773</td>\n",
              "      <td>-0.065183</td>\n",
              "      <td>0.253084</td>\n",
              "      <td>0.274146</td>\n",
              "      <td>-0.111398</td>\n",
              "      <td>0.126694</td>\n",
              "      <td>0.008415</td>\n",
              "      <td>0.218168</td>\n",
              "      <td>1.000000</td>\n",
              "      <td>0.014524</td>\n",
              "      <td>-0.037607</td>\n",
              "      <td>0.038305</td>\n",
              "    </tr>\n",
              "    <tr>\n",
              "      <th>Mgr</th>\n",
              "      <td>0.044203</td>\n",
              "      <td>0.061551</td>\n",
              "      <td>0.009729</td>\n",
              "      <td>0.065404</td>\n",
              "      <td>0.031779</td>\n",
              "      <td>0.025526</td>\n",
              "      <td>0.001685</td>\n",
              "      <td>-0.017612</td>\n",
              "      <td>0.115435</td>\n",
              "      <td>0.006832</td>\n",
              "      <td>0.045318</td>\n",
              "      <td>0.014524</td>\n",
              "      <td>1.000000</td>\n",
              "      <td>-0.178743</td>\n",
              "      <td>-0.309210</td>\n",
              "    </tr>\n",
              "    <tr>\n",
              "      <th>Office</th>\n",
              "      <td>-0.065604</td>\n",
              "      <td>-0.070660</td>\n",
              "      <td>-0.081201</td>\n",
              "      <td>0.009992</td>\n",
              "      <td>-0.033450</td>\n",
              "      <td>-0.032262</td>\n",
              "      <td>0.030353</td>\n",
              "      <td>-0.024108</td>\n",
              "      <td>-0.046272</td>\n",
              "      <td>0.008704</td>\n",
              "      <td>0.020326</td>\n",
              "      <td>-0.037607</td>\n",
              "      <td>-0.178743</td>\n",
              "      <td>1.000000</td>\n",
              "      <td>-0.358021</td>\n",
              "    </tr>\n",
              "    <tr>\n",
              "      <th>Other</th>\n",
              "      <td>-0.070553</td>\n",
              "      <td>-0.253526</td>\n",
              "      <td>-0.257281</td>\n",
              "      <td>0.029385</td>\n",
              "      <td>0.061761</td>\n",
              "      <td>0.035951</td>\n",
              "      <td>0.002453</td>\n",
              "      <td>-0.126027</td>\n",
              "      <td>0.042633</td>\n",
              "      <td>-0.164395</td>\n",
              "      <td>0.016765</td>\n",
              "      <td>0.038305</td>\n",
              "      <td>-0.309210</td>\n",
              "      <td>-0.358021</td>\n",
              "      <td>1.000000</td>\n",
              "    </tr>\n",
              "  </tbody>\n",
              "</table>\n",
              "</div>\n",
              "      <button class=\"colab-df-convert\" onclick=\"convertToInteractive('df-dfbba4e4-dba0-4851-afbe-e7a3b10807b8')\"\n",
              "              title=\"Convert this dataframe to an interactive table.\"\n",
              "              style=\"display:none;\">\n",
              "        \n",
              "  <svg xmlns=\"http://www.w3.org/2000/svg\" height=\"24px\"viewBox=\"0 0 24 24\"\n",
              "       width=\"24px\">\n",
              "    <path d=\"M0 0h24v24H0V0z\" fill=\"none\"/>\n",
              "    <path d=\"M18.56 5.44l.94 2.06.94-2.06 2.06-.94-2.06-.94-.94-2.06-.94 2.06-2.06.94zm-11 1L8.5 8.5l.94-2.06 2.06-.94-2.06-.94L8.5 2.5l-.94 2.06-2.06.94zm10 10l.94 2.06.94-2.06 2.06-.94-2.06-.94-.94-2.06-.94 2.06-2.06.94z\"/><path d=\"M17.41 7.96l-1.37-1.37c-.4-.4-.92-.59-1.43-.59-.52 0-1.04.2-1.43.59L10.3 9.45l-7.72 7.72c-.78.78-.78 2.05 0 2.83L4 21.41c.39.39.9.59 1.41.59.51 0 1.02-.2 1.41-.59l7.78-7.78 2.81-2.81c.8-.78.8-2.07 0-2.86zM5.41 20L4 18.59l7.72-7.72 1.47 1.35L5.41 20z\"/>\n",
              "  </svg>\n",
              "      </button>\n",
              "      \n",
              "  <style>\n",
              "    .colab-df-container {\n",
              "      display:flex;\n",
              "      flex-wrap:wrap;\n",
              "      gap: 12px;\n",
              "    }\n",
              "\n",
              "    .colab-df-convert {\n",
              "      background-color: #E8F0FE;\n",
              "      border: none;\n",
              "      border-radius: 50%;\n",
              "      cursor: pointer;\n",
              "      display: none;\n",
              "      fill: #1967D2;\n",
              "      height: 32px;\n",
              "      padding: 0 0 0 0;\n",
              "      width: 32px;\n",
              "    }\n",
              "\n",
              "    .colab-df-convert:hover {\n",
              "      background-color: #E2EBFA;\n",
              "      box-shadow: 0px 1px 2px rgba(60, 64, 67, 0.3), 0px 1px 3px 1px rgba(60, 64, 67, 0.15);\n",
              "      fill: #174EA6;\n",
              "    }\n",
              "\n",
              "    [theme=dark] .colab-df-convert {\n",
              "      background-color: #3B4455;\n",
              "      fill: #D2E3FC;\n",
              "    }\n",
              "\n",
              "    [theme=dark] .colab-df-convert:hover {\n",
              "      background-color: #434B5C;\n",
              "      box-shadow: 0px 1px 3px 1px rgba(0, 0, 0, 0.15);\n",
              "      filter: drop-shadow(0px 1px 2px rgba(0, 0, 0, 0.3));\n",
              "      fill: #FFFFFF;\n",
              "    }\n",
              "  </style>\n",
              "\n",
              "      <script>\n",
              "        const buttonEl =\n",
              "          document.querySelector('#df-dfbba4e4-dba0-4851-afbe-e7a3b10807b8 button.colab-df-convert');\n",
              "        buttonEl.style.display =\n",
              "          google.colab.kernel.accessAllowed ? 'block' : 'none';\n",
              "\n",
              "        async function convertToInteractive(key) {\n",
              "          const element = document.querySelector('#df-dfbba4e4-dba0-4851-afbe-e7a3b10807b8');\n",
              "          const dataTable =\n",
              "            await google.colab.kernel.invokeFunction('convertToInteractive',\n",
              "                                                     [key], {});\n",
              "          if (!dataTable) return;\n",
              "\n",
              "          const docLinkHtml = 'Like what you see? Visit the ' +\n",
              "            '<a target=\"_blank\" href=https://colab.research.google.com/notebooks/data_table.ipynb>data table notebook</a>'\n",
              "            + ' to learn more about interactive tables.';\n",
              "          element.innerHTML = '';\n",
              "          dataTable['output_type'] = 'display_data';\n",
              "          await google.colab.output.renderOutput(dataTable, element);\n",
              "          const docLink = document.createElement('div');\n",
              "          docLink.innerHTML = docLinkHtml;\n",
              "          element.appendChild(docLink);\n",
              "        }\n",
              "      </script>\n",
              "    </div>\n",
              "  </div>\n",
              "  "
            ]
          },
          "metadata": {},
          "execution_count": 82
        }
      ]
    },
    {
      "cell_type": "code",
      "source": [
        "sns.set(rc = {'figure.figsize':(16,9)})\n",
        "sns.heatmap(df_he.corr(), annot = True, fmt='.2g',cmap= 'coolwarm')"
      ],
      "metadata": {
        "colab": {
          "base_uri": "https://localhost:8080/",
          "height": 627
        },
        "id": "nCxJchPoCUV2",
        "outputId": "eb0bf208-108d-43d9-a38e-640c95536d57"
      },
      "execution_count": null,
      "outputs": [
        {
          "output_type": "execute_result",
          "data": {
            "text/plain": [
              "<matplotlib.axes._subplots.AxesSubplot at 0x7f5778e5fed0>"
            ]
          },
          "metadata": {},
          "execution_count": 87
        },
        {
          "output_type": "display_data",
          "data": {
            "text/plain": [
              "<Figure size 1152x648 with 2 Axes>"
            ],
            "image/png": "[encoded data removed]"
          },
          "metadata": {}
        }
      ]
    },
    {
      "cell_type": "markdown",
      "source": [
        "#Training-Testing"
      ],
      "metadata": {
        "id": "t2yRVqHXZDrV"
      }
    },
    {
      "cell_type": "code",
      "source": [
        "#training/testing data\n",
        "X = df_he.drop(['Default', 'Num_Derog', 'Num_Delinq'], axis = 1)  \n",
        "y = df_he.Default "
      ],
      "metadata": {
        "id": "AgIvIxDlCUS8"
      },
      "execution_count": null,
      "outputs": []
    },
    {
      "cell_type": "code",
      "source": [
        "#Train-test split 70-30\n",
        "x_train, x_test, y_train, y_test = train_test_split(X, y, test_size = 0.30, random_state = 831)"
      ],
      "metadata": {
        "id": "wwT-CiKAQMT-"
      },
      "execution_count": null,
      "outputs": []
    },
    {
      "cell_type": "code",
      "source": [
        "#Normalizing range \n",
        "range_scaler = MinMaxScaler()\n",
        "range_scaler.fit(x_train)\n",
        "norm_x_train = range_scaler.transform(x_train)"
      ],
      "metadata": {
        "id": "pDtw7RDiQN5S"
      },
      "execution_count": null,
      "outputs": []
    },
    {
      "cell_type": "code",
      "source": [
        "from imblearn.over_sampling import SMOTE\n",
        "sm = SMOTE(random_state=42)\n",
        "X_res, y_res = sm.fit_resample(x_train, y_train)"
      ],
      "metadata": {
        "id": "mJMFGOJPVd9w"
      },
      "execution_count": null,
      "outputs": []
    },
    {
      "cell_type": "markdown",
      "source": [
        "#Basic Neural Network Model"
      ],
      "metadata": {
        "id": "Io6GRXFHQuAp"
      }
    },
    {
      "cell_type": "code",
      "source": [
        "nn_mod = Sequential()"
      ],
      "metadata": {
        "id": "BKqLraeUQN2u"
      },
      "execution_count": null,
      "outputs": []
    },
    {
      "cell_type": "code",
      "source": [
        "nn_mod.add(Dense(units = 64,\n",
        "              activation = 'relu',\n",
        "              name = 'Hidden_Layer_2'))"
      ],
      "metadata": {
        "id": "37PzQCIeQNxv"
      },
      "execution_count": null,
      "outputs": []
    },
    {
      "cell_type": "code",
      "source": [
        "nn_mod.add(Dense(units = 20,\n",
        "              activation = 'relu',\n",
        "              name = 'Hidden_Layer_3'))"
      ],
      "metadata": {
        "id": "aIe27WRdQNvI"
      },
      "execution_count": null,
      "outputs": []
    },
    {
      "cell_type": "code",
      "source": [
        "nn_mod.add(Dense(units = 10,\n",
        "              activation = 'relu',\n",
        "              name = 'Hidden_Layer_4'))"
      ],
      "metadata": {
        "id": "M3mZCFHSQNsx"
      },
      "execution_count": null,
      "outputs": []
    },
    {
      "cell_type": "code",
      "source": [
        "nn_mod.add(Dense(units = 6,\n",
        "              activation = 'relu',\n",
        "              name = 'Hidden_Layer_5'))"
      ],
      "metadata": {
        "id": "XaOsHRZkQ8HV"
      },
      "execution_count": null,
      "outputs": []
    },
    {
      "cell_type": "code",
      "source": [
        "#Dense Output Layer\n",
        "nn_mod.add(Dense(units = 1,\n",
        "              activation = 'sigmoid',\n",
        "              name = 'Output_Layer'))"
      ],
      "metadata": {
        "id": "h_BnEkdVQ7-_"
      },
      "execution_count": null,
      "outputs": []
    },
    {
      "cell_type": "markdown",
      "source": [
        "# Model Evaluation "
      ],
      "metadata": {
        "id": "xmx1uXiURoFI"
      }
    },
    {
      "cell_type": "code",
      "source": [
        "nn_mod.compile(loss = 'binary_crossentropy', \n",
        "            optimizer = 'adam',\n",
        "            metrics = 'accuracy')"
      ],
      "metadata": {
        "id": "C8iaLYboRmVI"
      },
      "execution_count": null,
      "outputs": []
    },
    {
      "cell_type": "code",
      "source": [
        "#Model Training\n",
        "nn_mod_fit = nn_mod.fit(norm_x_train, y_train, batch_size = 32,\n",
        "          validation_split = 0.1, epochs = 20)"
      ],
      "metadata": {
        "colab": {
          "base_uri": "https://localhost:8080/"
        },
        "id": "PcKTLMZTRmSz",
        "outputId": "32637f45-db56-4f89-e909-8647deb43374"
      },
      "execution_count": null,
      "outputs": [
        {
          "output_type": "stream",
          "name": "stdout",
          "text": [
            "Epoch 1/20\n",
            "67/67 [==============================] - 1s 6ms/step - loss: 0.3796 - accuracy: 0.9070 - val_loss: 0.3048 - val_accuracy: 0.9153\n",
            "Epoch 2/20\n",
            "67/67 [==============================] - 0s 3ms/step - loss: 0.3011 - accuracy: 0.9103 - val_loss: 0.2964 - val_accuracy: 0.9153\n",
            "Epoch 3/20\n",
            "67/67 [==============================] - 0s 3ms/step - loss: 0.2964 - accuracy: 0.9103 - val_loss: 0.2962 - val_accuracy: 0.9153\n",
            "Epoch 4/20\n",
            "67/67 [==============================] - 0s 3ms/step - loss: 0.2925 - accuracy: 0.9103 - val_loss: 0.2954 - val_accuracy: 0.9153\n",
            "Epoch 5/20\n",
            "67/67 [==============================] - 0s 2ms/step - loss: 0.2893 - accuracy: 0.9103 - val_loss: 0.2938 - val_accuracy: 0.9153\n",
            "Epoch 6/20\n",
            "67/67 [==============================] - 0s 3ms/step - loss: 0.2876 - accuracy: 0.9103 - val_loss: 0.2962 - val_accuracy: 0.9153\n",
            "Epoch 7/20\n",
            "67/67 [==============================] - 0s 3ms/step - loss: 0.2846 - accuracy: 0.9103 - val_loss: 0.2936 - val_accuracy: 0.9153\n",
            "Epoch 8/20\n",
            "67/67 [==============================] - 0s 3ms/step - loss: 0.2813 - accuracy: 0.9103 - val_loss: 0.2956 - val_accuracy: 0.9153\n",
            "Epoch 9/20\n",
            "67/67 [==============================] - 0s 3ms/step - loss: 0.2785 - accuracy: 0.9103 - val_loss: 0.2931 - val_accuracy: 0.9153\n",
            "Epoch 10/20\n",
            "67/67 [==============================] - 0s 3ms/step - loss: 0.2768 - accuracy: 0.9103 - val_loss: 0.2984 - val_accuracy: 0.9153\n",
            "Epoch 11/20\n",
            "67/67 [==============================] - 0s 3ms/step - loss: 0.2776 - accuracy: 0.9118 - val_loss: 0.2985 - val_accuracy: 0.9153\n",
            "Epoch 12/20\n",
            "67/67 [==============================] - 0s 3ms/step - loss: 0.2725 - accuracy: 0.9113 - val_loss: 0.2924 - val_accuracy: 0.9153\n",
            "Epoch 13/20\n",
            "67/67 [==============================] - 0s 3ms/step - loss: 0.2729 - accuracy: 0.9122 - val_loss: 0.2893 - val_accuracy: 0.9153\n",
            "Epoch 14/20\n",
            "67/67 [==============================] - 0s 3ms/step - loss: 0.2709 - accuracy: 0.9132 - val_loss: 0.2851 - val_accuracy: 0.9153\n",
            "Epoch 15/20\n",
            "67/67 [==============================] - 0s 3ms/step - loss: 0.2678 - accuracy: 0.9146 - val_loss: 0.2860 - val_accuracy: 0.9153\n",
            "Epoch 16/20\n",
            "67/67 [==============================] - 0s 3ms/step - loss: 0.2636 - accuracy: 0.9151 - val_loss: 0.2842 - val_accuracy: 0.9153\n",
            "Epoch 17/20\n",
            "67/67 [==============================] - 0s 3ms/step - loss: 0.2608 - accuracy: 0.9169 - val_loss: 0.2746 - val_accuracy: 0.9195\n",
            "Epoch 18/20\n",
            "67/67 [==============================] - 0s 3ms/step - loss: 0.2559 - accuracy: 0.9174 - val_loss: 0.2726 - val_accuracy: 0.9195\n",
            "Epoch 19/20\n",
            "67/67 [==============================] - 0s 3ms/step - loss: 0.2566 - accuracy: 0.9202 - val_loss: 0.2685 - val_accuracy: 0.9280\n",
            "Epoch 20/20\n",
            "67/67 [==============================] - 0s 3ms/step - loss: 0.2482 - accuracy: 0.9231 - val_loss: 0.2689 - val_accuracy: 0.9237\n"
          ]
        }
      ]
    },
    {
      "cell_type": "code",
      "source": [
        "#Model Accuracy\n",
        "nn_mod.evaluate(norm_x_train, y_train)"
      ],
      "metadata": {
        "colab": {
          "base_uri": "https://localhost:8080/"
        },
        "id": "mx3BipF3RmQb",
        "outputId": "0742315d-4fa0-4775-c025-1a72107b7838"
      },
      "execution_count": null,
      "outputs": [
        {
          "output_type": "stream",
          "name": "stdout",
          "text": [
            "74/74 [==============================] - 0s 2ms/step - loss: 0.2410 - accuracy: 0.9257\n"
          ]
        },
        {
          "output_type": "execute_result",
          "data": {
            "text/plain": [
              "[0.241017147898674, 0.9256899952888489]"
            ]
          },
          "metadata": {},
          "execution_count": 122
        }
      ]
    },
    {
      "cell_type": "code",
      "source": [
        "#Added Hidden Layers\n",
        "nn_mod.add(Dense(units = 100,\n",
        "              activation = 'relu',\n",
        "              name = 'Hidden_Layer_1'))"
      ],
      "metadata": {
        "id": "NmZ1vc5MQN0V"
      },
      "execution_count": null,
      "outputs": []
    },
    {
      "cell_type": "code",
      "source": [
        "#Model History\n",
        "history_dict = nn_mod_fit.history\n",
        "history_dict.keys()"
      ],
      "metadata": {
        "colab": {
          "base_uri": "https://localhost:8080/"
        },
        "id": "CDbQVROsRmNE",
        "outputId": "86f21ce3-5ff5-4fa5-8123-faa8d0023e75"
      },
      "execution_count": null,
      "outputs": [
        {
          "output_type": "execute_result",
          "data": {
            "text/plain": [
              "dict_keys(['loss', 'accuracy', 'val_loss', 'val_accuracy'])"
            ]
          },
          "metadata": {},
          "execution_count": 124
        }
      ]
    },
    {
      "cell_type": "code",
      "source": [
        "#Visualized - Epochs\n",
        "epochs = range(1, len(history_dict['loss']) + 1)\n",
        "plt.title('Loss')\n",
        "plt.plot(epochs, history_dict['loss'], label='train')\n",
        "plt.plot(epochs, history_dict['val_loss'], label='val')\n",
        "plt.legend()\n",
        "plt.show();"
      ],
      "metadata": {
        "colab": {
          "base_uri": "https://localhost:8080/",
          "height": 556
        },
        "id": "c65QZyTpSqJf",
        "outputId": "4fc8c031-d262-4d13-a690-0b8d13b88148"
      },
      "execution_count": null,
      "outputs": [
        {
          "output_type": "display_data",
          "data": {
            "text/plain": [
              "<Figure size 1152x648 with 1 Axes>"
            ],
            "image/png": "[encoded data removed]"
          },
          "metadata": {}
        }
      ]
    },
    {
      "cell_type": "code",
      "source": [
        "##Visualized - Accuracy\n",
        "plt.title('Accuracy')\n",
        "plt.plot(epochs, history_dict['accuracy'], label='train')\n",
        "plt.plot(epochs, history_dict['val_accuracy'], label='val')\n",
        "plt.legend()\n",
        "plt.show();"
      ],
      "metadata": {
        "colab": {
          "base_uri": "https://localhost:8080/",
          "height": 556
        },
        "id": "s6o5j-CHSp9x",
        "outputId": "bf497460-5529-4704-f1c9-f1b47663f0ac"
      },
      "execution_count": null,
      "outputs": [
        {
          "output_type": "display_data",
          "data": {
            "text/plain": [
              "<Figure size 1152x648 with 1 Axes>"
            ],
            "image/png": "[encoded data removed]"
          },
          "metadata": {}
        }
      ]
    },
    {
      "cell_type": "markdown",
      "source": [
        "#Results"
      ],
      "metadata": {
        "id": "GhiR5cgXY8Vd"
      }
    },
    {
      "cell_type": "code",
      "source": [
        "#Full Training Performance Information\n",
        "preds_train = (nn_mod.predict(norm_x_train) > 0.5).astype(\"int32\")\n",
        "print(classification_report(y_train, preds_train, digits=4))"
      ],
      "metadata": {
        "colab": {
          "base_uri": "https://localhost:8080/",
          "height": 353
        },
        "id": "y5BboaBIS8me",
        "outputId": "ea9da3aa-ff31-4636-dcfd-ca832063dc6b"
      },
      "execution_count": null,
      "outputs": [
        {
          "output_type": "error",
          "ename": "ValueError",
          "evalue": "ignored",
          "traceback": [
            "\u001b[0;31m---------------------------------------------------------------------------\u001b[0m",
            "\u001b[0;31mValueError\u001b[0m                                Traceback (most recent call last)",
            "\u001b[0;32m<ipython-input-127-f23a66bf43b6>\u001b[0m in \u001b[0;36m<module>\u001b[0;34m\u001b[0m\n\u001b[1;32m      1\u001b[0m \u001b[0;31m#Full Training Performance Information\u001b[0m\u001b[0;34m\u001b[0m\u001b[0;34m\u001b[0m\u001b[0;34m\u001b[0m\u001b[0m\n\u001b[1;32m      2\u001b[0m \u001b[0mpreds_train\u001b[0m \u001b[0;34m=\u001b[0m \u001b[0;34m(\u001b[0m\u001b[0mnn_mod\u001b[0m\u001b[0;34m.\u001b[0m\u001b[0mpredict\u001b[0m\u001b[0;34m(\u001b[0m\u001b[0mnorm_x_train\u001b[0m\u001b[0;34m)\u001b[0m \u001b[0;34m>\u001b[0m \u001b[0;36m0.5\u001b[0m\u001b[0;34m)\u001b[0m\u001b[0;34m.\u001b[0m\u001b[0mastype\u001b[0m\u001b[0;34m(\u001b[0m\u001b[0;34m\"int32\"\u001b[0m\u001b[0;34m)\u001b[0m\u001b[0;34m\u001b[0m\u001b[0;34m\u001b[0m\u001b[0m\n\u001b[0;32m----> 3\u001b[0;31m \u001b[0mprint\u001b[0m\u001b[0;34m(\u001b[0m\u001b[0mclassification_report\u001b[0m\u001b[0;34m(\u001b[0m\u001b[0my_train\u001b[0m\u001b[0;34m,\u001b[0m \u001b[0mpreds_train\u001b[0m\u001b[0;34m,\u001b[0m \u001b[0mdigits\u001b[0m\u001b[0;34m=\u001b[0m\u001b[0;36m4\u001b[0m\u001b[0;34m)\u001b[0m\u001b[0;34m)\u001b[0m\u001b[0;34m\u001b[0m\u001b[0;34m\u001b[0m\u001b[0m\n\u001b[0m",
            "\u001b[0;32m/usr/local/lib/python3.7/dist-packages/sklearn/metrics/_classification.py\u001b[0m in \u001b[0;36mclassification_report\u001b[0;34m(y_true, y_pred, labels, target_names, sample_weight, digits, output_dict, zero_division)\u001b[0m\n\u001b[1;32m   2108\u001b[0m     \"\"\"\n\u001b[1;32m   2109\u001b[0m \u001b[0;34m\u001b[0m\u001b[0m\n\u001b[0;32m-> 2110\u001b[0;31m     \u001b[0my_type\u001b[0m\u001b[0;34m,\u001b[0m \u001b[0my_true\u001b[0m\u001b[0;34m,\u001b[0m \u001b[0my_pred\u001b[0m \u001b[0;34m=\u001b[0m \u001b[0m_check_targets\u001b[0m\u001b[0;34m(\u001b[0m\u001b[0my_true\u001b[0m\u001b[0;34m,\u001b[0m \u001b[0my_pred\u001b[0m\u001b[0;34m)\u001b[0m\u001b[0;34m\u001b[0m\u001b[0;34m\u001b[0m\u001b[0m\n\u001b[0m\u001b[1;32m   2111\u001b[0m \u001b[0;34m\u001b[0m\u001b[0m\n\u001b[1;32m   2112\u001b[0m     \u001b[0;32mif\u001b[0m \u001b[0mlabels\u001b[0m \u001b[0;32mis\u001b[0m \u001b[0;32mNone\u001b[0m\u001b[0;34m:\u001b[0m\u001b[0;34m\u001b[0m\u001b[0;34m\u001b[0m\u001b[0m\n",
            "\u001b[0;32m/usr/local/lib/python3.7/dist-packages/sklearn/metrics/_classification.py\u001b[0m in \u001b[0;36m_check_targets\u001b[0;34m(y_true, y_pred)\u001b[0m\n\u001b[1;32m     93\u001b[0m         raise ValueError(\n\u001b[1;32m     94\u001b[0m             \"Classification metrics can't handle a mix of {0} and {1} targets\".format(\n\u001b[0;32m---> 95\u001b[0;31m                 \u001b[0mtype_true\u001b[0m\u001b[0;34m,\u001b[0m \u001b[0mtype_pred\u001b[0m\u001b[0;34m\u001b[0m\u001b[0;34m\u001b[0m\u001b[0m\n\u001b[0m\u001b[1;32m     96\u001b[0m             )\n\u001b[1;32m     97\u001b[0m         )\n",
            "\u001b[0;31mValueError\u001b[0m: Classification metrics can't handle a mix of binary and multilabel-indicator targets"
          ]
        }
      ]
    },
    {
      "cell_type": "code",
      "source": [
        "#Model Prediction and Testing Performance Information\n",
        "norm_x_test = range_scaler.transform(x_test)"
      ],
      "metadata": {
        "id": "LzaF7bCYS8gJ"
      },
      "execution_count": null,
      "outputs": []
    },
    {
      "cell_type": "code",
      "source": [
        "preds_test = (nn_mod.predict(norm_x_test) > 0.5).astype(\"int32\")\n",
        "print(classification_report(y_test, preds_test, digits=6))"
      ],
      "metadata": {
        "colab": {
          "base_uri": "https://localhost:8080/",
          "height": 336
        },
        "id": "xFkqaufcTlw2",
        "outputId": "a2e69cec-f4af-4453-9772-c38b59b385a1"
      },
      "execution_count": null,
      "outputs": [
        {
          "output_type": "error",
          "ename": "ValueError",
          "evalue": "ignored",
          "traceback": [
            "\u001b[0;31m---------------------------------------------------------------------------\u001b[0m",
            "\u001b[0;31mValueError\u001b[0m                                Traceback (most recent call last)",
            "\u001b[0;32m<ipython-input-129-b1c683b52728>\u001b[0m in \u001b[0;36m<module>\u001b[0;34m\u001b[0m\n\u001b[1;32m      1\u001b[0m \u001b[0mpreds_test\u001b[0m \u001b[0;34m=\u001b[0m \u001b[0;34m(\u001b[0m\u001b[0mnn_mod\u001b[0m\u001b[0;34m.\u001b[0m\u001b[0mpredict\u001b[0m\u001b[0;34m(\u001b[0m\u001b[0mnorm_x_test\u001b[0m\u001b[0;34m)\u001b[0m \u001b[0;34m>\u001b[0m \u001b[0;36m0.5\u001b[0m\u001b[0;34m)\u001b[0m\u001b[0;34m.\u001b[0m\u001b[0mastype\u001b[0m\u001b[0;34m(\u001b[0m\u001b[0;34m\"int32\"\u001b[0m\u001b[0;34m)\u001b[0m\u001b[0;34m\u001b[0m\u001b[0;34m\u001b[0m\u001b[0m\n\u001b[0;32m----> 2\u001b[0;31m \u001b[0mprint\u001b[0m\u001b[0;34m(\u001b[0m\u001b[0mclassification_report\u001b[0m\u001b[0;34m(\u001b[0m\u001b[0my_test\u001b[0m\u001b[0;34m,\u001b[0m \u001b[0mpreds_test\u001b[0m\u001b[0;34m,\u001b[0m \u001b[0mdigits\u001b[0m\u001b[0;34m=\u001b[0m\u001b[0;36m6\u001b[0m\u001b[0;34m)\u001b[0m\u001b[0;34m)\u001b[0m\u001b[0;34m\u001b[0m\u001b[0;34m\u001b[0m\u001b[0m\n\u001b[0m",
            "\u001b[0;32m/usr/local/lib/python3.7/dist-packages/sklearn/metrics/_classification.py\u001b[0m in \u001b[0;36mclassification_report\u001b[0;34m(y_true, y_pred, labels, target_names, sample_weight, digits, output_dict, zero_division)\u001b[0m\n\u001b[1;32m   2108\u001b[0m     \"\"\"\n\u001b[1;32m   2109\u001b[0m \u001b[0;34m\u001b[0m\u001b[0m\n\u001b[0;32m-> 2110\u001b[0;31m     \u001b[0my_type\u001b[0m\u001b[0;34m,\u001b[0m \u001b[0my_true\u001b[0m\u001b[0;34m,\u001b[0m \u001b[0my_pred\u001b[0m \u001b[0;34m=\u001b[0m \u001b[0m_check_targets\u001b[0m\u001b[0;34m(\u001b[0m\u001b[0my_true\u001b[0m\u001b[0;34m,\u001b[0m \u001b[0my_pred\u001b[0m\u001b[0;34m)\u001b[0m\u001b[0;34m\u001b[0m\u001b[0;34m\u001b[0m\u001b[0m\n\u001b[0m\u001b[1;32m   2111\u001b[0m \u001b[0;34m\u001b[0m\u001b[0m\n\u001b[1;32m   2112\u001b[0m     \u001b[0;32mif\u001b[0m \u001b[0mlabels\u001b[0m \u001b[0;32mis\u001b[0m \u001b[0;32mNone\u001b[0m\u001b[0;34m:\u001b[0m\u001b[0;34m\u001b[0m\u001b[0;34m\u001b[0m\u001b[0m\n",
            "\u001b[0;32m/usr/local/lib/python3.7/dist-packages/sklearn/metrics/_classification.py\u001b[0m in \u001b[0;36m_check_targets\u001b[0;34m(y_true, y_pred)\u001b[0m\n\u001b[1;32m     93\u001b[0m         raise ValueError(\n\u001b[1;32m     94\u001b[0m             \"Classification metrics can't handle a mix of {0} and {1} targets\".format(\n\u001b[0;32m---> 95\u001b[0;31m                 \u001b[0mtype_true\u001b[0m\u001b[0;34m,\u001b[0m \u001b[0mtype_pred\u001b[0m\u001b[0;34m\u001b[0m\u001b[0;34m\u001b[0m\u001b[0m\n\u001b[0m\u001b[1;32m     96\u001b[0m             )\n\u001b[1;32m     97\u001b[0m         )\n",
            "\u001b[0;31mValueError\u001b[0m: Classification metrics can't handle a mix of binary and multilabel-indicator targets"
          ]
        }
      ]
    },
    {
      "cell_type": "markdown",
      "source": [
        "# Keras Tuner - Hyperparameter Tuning"
      ],
      "metadata": {
        "id": "hh0lvABzXOiM"
      }
    },
    {
      "cell_type": "code",
      "source": [
        "pip install -q -U keras-tuner"
      ],
      "metadata": {
        "id": "nqEOHPHeXOBn"
      },
      "execution_count": null,
      "outputs": []
    },
    {
      "cell_type": "code",
      "source": [
        "def model_builder(hp):\n",
        "  model = keras.Sequential()\n",
        "  # Tune the number of units in the first Dense layer\n",
        "  # Choose an optimal value \n",
        "  hp_units1 = hp.Int('units_1', min_value = 16, \n",
        "                     max_value = 160, \n",
        "                     step = 16)\n",
        "  hp_units2 = hp.Int('units_2', min_value = 16, \n",
        "                     max_value = 80, \n",
        "                     step = 16)\n",
        "  hp_units3 = hp.Int('units_3', min_value = 16, \n",
        "                     max_value = 32, \n",
        "                     step = 8)\n",
        "  hp_units4 = hp.Int('units_4', min_value = 8, \n",
        "                     max_value = 32, \n",
        "                     step = 4)\n",
        "  hp_units5 = hp.Int('units_5', min_value = 8, \n",
        "                     max_value = 32, \n",
        "                     step = 4)\n",
        "  model.add(Dense(units = hp_units1, \n",
        "                               activation = 'relu'))\n",
        "  model.add(Dense(units = hp_units2, \n",
        "                               activation = 'relu'))\n",
        "  model.add(Dense(units = hp_units3, \n",
        "                               activation = 'relu'))\n",
        "  model.add(Dense(units = hp_units4, \n",
        "                               activation = 'relu'))\n",
        "  model.add(Dense(units = hp_units5, \n",
        "                               activation = 'relu'))\n",
        "  model.add(Dense(units = 1,\n",
        "              activation = 'sigmoid'))\n",
        "\n",
        "  # Tune the learning rate for the optimizer\n",
        "  # Choose an optimal value from 0.1 - 0.0001\n",
        "  hp_learning_rate = hp.Choice('learning_rate', values = [1e-1, 1e-2, 1e-3, 1e-4])\n",
        "\n",
        "  model.compile(optimizer = Adam(learning_rate = hp_learning_rate),\n",
        "                loss = 'binary_crossentropy',\n",
        "                metrics = 'accuracy')\n",
        "\n",
        "  return model"
      ],
      "metadata": {
        "id": "z636oLOcXN-w"
      },
      "execution_count": null,
      "outputs": []
    },
    {
      "cell_type": "code",
      "source": [
        "tuner = kt.Hyperband(model_builder,\n",
        "                     objective = 'val_accuracy',\n",
        "                     max_epochs = 20,\n",
        "                     factor = 3,\n",
        "                     seed = 831,\n",
        "                     directory = 'my_dir',\n",
        "                     project_name = 'intro_to_kt3')"
      ],
      "metadata": {
        "id": "yTisYNYQXN79"
      },
      "execution_count": null,
      "outputs": []
    },
    {
      "cell_type": "code",
      "source": [
        "stop_early = EarlyStopping(monitor = 'val_loss', patience = 5)"
      ],
      "metadata": {
        "id": "ZcnJw8Z0XN5G"
      },
      "execution_count": null,
      "outputs": []
    },
    {
      "cell_type": "code",
      "source": [
        "tuner.search(norm_x_train, \n",
        "             y_train, \n",
        "             epochs = 20, \n",
        "             batch_size = 32, \n",
        "             validation_split = 0.1, \n",
        "             callbacks = [stop_early])"
      ],
      "metadata": {
        "id": "s6skxuBqXN3L"
      },
      "execution_count": null,
      "outputs": []
    },
    {
      "cell_type": "code",
      "source": [
        "best_mod = tuner.get_best_hyperparameters(num_trials = 1)[0]\n",
        "best_mod.get_config()"
      ],
      "metadata": {
        "id": "WZq411lqXf7p"
      },
      "execution_count": null,
      "outputs": []
    },
    {
      "cell_type": "code",
      "source": [
        "model_tune = tuner.hypermodel.build(best_mod)\n",
        "history_tune = model_tune.fit(norm_x_train, \n",
        "                              y_train,\n",
        "                              epochs = best_mod.get('tuner/epochs'),\n",
        "                              batch_size = 32,\n",
        "                              validation_split = 0.1)"
      ],
      "metadata": {
        "id": "ed7P7mRyXf2R"
      },
      "execution_count": null,
      "outputs": []
    },
    {
      "cell_type": "code",
      "source": [
        "preds_train_tune = (model_tune.predict(norm_x_train) > 0.5).astype(\"int32\")\n",
        "print(classification_report(y_train, preds_train_tune, digits = 6))"
      ],
      "metadata": {
        "id": "fiYwCdUeXkqp"
      },
      "execution_count": null,
      "outputs": []
    },
    {
      "cell_type": "code",
      "source": [
        "preds_test_tune = (model_tune.predict(norm_x_test) > 0.5).astype(\"int32\")\n",
        "print(classification_report(y_test, preds_test_tune, digits = 6))"
      ],
      "metadata": {
        "id": "k7XnO3SgXkmc"
      },
      "execution_count": null,
      "outputs": []
    }
  ]
}